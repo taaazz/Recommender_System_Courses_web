{
  "cells": [
    {
      "cell_type": "code",
      "execution_count": 1,
      "metadata": {
        "id": "Kk9U8vMYVE4d"
      },
      "outputs": [],
      "source": [
        "# Import library\n",
        "import joblib\n",
        "import pandas as pd\n",
        "import numpy as np\n",
        "import tensorflow as tf\n",
        "from tensorflow import keras\n",
        "from tensorflow.keras import layers\n",
        "from zipfile import ZipFile\n",
        "import matplotlib.pyplot as plt"
      ]
    },
    {
      "cell_type": "code",
      "execution_count": 2,
      "metadata": {
        "colab": {
          "base_uri": "https://localhost:8080/"
        },
        "id": "a6FQOXrRVHeU",
        "outputId": "eaf481fa-fa0a-438a-b9ae-66d930a9abde"
      },
      "outputs": [
        {
          "name": "stdout",
          "output_type": "stream",
          "text": [
            "^C\n"
          ]
        }
      ],
      "source": [
        "# !kaggle datasets download -d imuhammad/course-reviews-on-coursera"
      ]
    },
    {
      "cell_type": "code",
      "execution_count": null,
      "metadata": {
        "id": "h4s9H9nHVL3E"
      },
      "outputs": [],
      "source": [
        "# zip_ref = ZipFile('course-reviews-on-coursera.zip')\n",
        "# zip_ref.extractall(\"/content\")\n",
        "# zip_ref.close()"
      ]
    },
    {
      "cell_type": "code",
      "execution_count": 16,
      "metadata": {
        "id": "-2cZxbCiVM_O"
      },
      "outputs": [],
      "source": [
        "courses_df = pd.read_csv(r'D:\\Recommender_System_Courses_web\\dataset\\Coursera_courses.csv')\n",
        "reviews_df = pd.read_csv(r'D:\\Recommender_System_Courses_web\\dataset\\Coursera_reviews.csv')"
      ]
    },
    {
      "cell_type": "markdown",
      "metadata": {
        "id": "rPBGzugxVOp_"
      },
      "source": [
        "# Courses"
      ]
    },
    {
      "cell_type": "code",
      "execution_count": 17,
      "metadata": {
        "colab": {
          "base_uri": "https://localhost:8080/"
        },
        "id": "M6HVmeTkVQZz",
        "outputId": "4d6612a8-fc0a-449d-a29c-ef505c15d7b1"
      },
      "outputs": [
        {
          "data": {
            "text/html": [
              "<div>\n",
              "<style scoped>\n",
              "    .dataframe tbody tr th:only-of-type {\n",
              "        vertical-align: middle;\n",
              "    }\n",
              "\n",
              "    .dataframe tbody tr th {\n",
              "        vertical-align: top;\n",
              "    }\n",
              "\n",
              "    .dataframe thead th {\n",
              "        text-align: right;\n",
              "    }\n",
              "</style>\n",
              "<table border=\"1\" class=\"dataframe\">\n",
              "  <thead>\n",
              "    <tr style=\"text-align: right;\">\n",
              "      <th></th>\n",
              "      <th>name</th>\n",
              "      <th>institution</th>\n",
              "      <th>course_url</th>\n",
              "      <th>course_id</th>\n",
              "    </tr>\n",
              "  </thead>\n",
              "  <tbody>\n",
              "    <tr>\n",
              "      <th>0</th>\n",
              "      <td>Machine Learning</td>\n",
              "      <td>Stanford University</td>\n",
              "      <td>https://www.coursera.org/learn/machine-learning</td>\n",
              "      <td>machine-learning</td>\n",
              "    </tr>\n",
              "    <tr>\n",
              "      <th>1</th>\n",
              "      <td>Indigenous Canada</td>\n",
              "      <td>University of Alberta</td>\n",
              "      <td>https://www.coursera.org/learn/indigenous-canada</td>\n",
              "      <td>indigenous-canada</td>\n",
              "    </tr>\n",
              "    <tr>\n",
              "      <th>2</th>\n",
              "      <td>The Science of Well-Being</td>\n",
              "      <td>Yale University</td>\n",
              "      <td>https://www.coursera.org/learn/the-science-of-...</td>\n",
              "      <td>the-science-of-well-being</td>\n",
              "    </tr>\n",
              "    <tr>\n",
              "      <th>3</th>\n",
              "      <td>Technical Support Fundamentals</td>\n",
              "      <td>Google</td>\n",
              "      <td>https://www.coursera.org/learn/technical-suppo...</td>\n",
              "      <td>technical-support-fundamentals</td>\n",
              "    </tr>\n",
              "    <tr>\n",
              "      <th>4</th>\n",
              "      <td>Become a CBRS Certified Professional Installer...</td>\n",
              "      <td>Google - Spectrum Sharing</td>\n",
              "      <td>https://www.coursera.org/learn/google-cbrs-cpi...</td>\n",
              "      <td>google-cbrs-cpi-training</td>\n",
              "    </tr>\n",
              "  </tbody>\n",
              "</table>\n",
              "</div>"
            ],
            "text/plain": [
              "                                                name  \\\n",
              "0                                   Machine Learning   \n",
              "1                                  Indigenous Canada   \n",
              "2                          The Science of Well-Being   \n",
              "3                     Technical Support Fundamentals   \n",
              "4  Become a CBRS Certified Professional Installer...   \n",
              "\n",
              "                 institution  \\\n",
              "0        Stanford University   \n",
              "1      University of Alberta   \n",
              "2            Yale University   \n",
              "3                     Google   \n",
              "4  Google - Spectrum Sharing   \n",
              "\n",
              "                                          course_url  \\\n",
              "0    https://www.coursera.org/learn/machine-learning   \n",
              "1   https://www.coursera.org/learn/indigenous-canada   \n",
              "2  https://www.coursera.org/learn/the-science-of-...   \n",
              "3  https://www.coursera.org/learn/technical-suppo...   \n",
              "4  https://www.coursera.org/learn/google-cbrs-cpi...   \n",
              "\n",
              "                        course_id  \n",
              "0                machine-learning  \n",
              "1               indigenous-canada  \n",
              "2       the-science-of-well-being  \n",
              "3  technical-support-fundamentals  \n",
              "4        google-cbrs-cpi-training  "
            ]
          },
          "execution_count": 17,
          "metadata": {},
          "output_type": "execute_result"
        }
      ],
      "source": [
        "courses_df.head()"
      ]
    },
    {
      "cell_type": "code",
      "execution_count": 18,
      "metadata": {
        "colab": {
          "base_uri": "https://localhost:8080/"
        },
        "id": "k4361_S8VVTE",
        "outputId": "e75524d0-be54-4894-bf79-0c0c90145a1a"
      },
      "outputs": [
        {
          "name": "stdout",
          "output_type": "stream",
          "text": [
            "<class 'pandas.core.frame.DataFrame'>\n",
            "RangeIndex: 623 entries, 0 to 622\n",
            "Data columns (total 4 columns):\n",
            " #   Column       Non-Null Count  Dtype \n",
            "---  ------       --------------  ----- \n",
            " 0   name         623 non-null    object\n",
            " 1   institution  623 non-null    object\n",
            " 2   course_url   623 non-null    object\n",
            " 3   course_id    623 non-null    object\n",
            "dtypes: object(4)\n",
            "memory usage: 19.6+ KB\n"
          ]
        }
      ],
      "source": [
        "courses_df.info()"
      ]
    },
    {
      "cell_type": "code",
      "execution_count": 19,
      "metadata": {
        "colab": {
          "base_uri": "https://localhost:8080/"
        },
        "id": "H0IrUHQDVYTS",
        "outputId": "bfdb4718-5e4e-4972-adfc-123c4f9c70d2"
      },
      "outputs": [
        {
          "data": {
            "text/html": [
              "<div>\n",
              "<style scoped>\n",
              "    .dataframe tbody tr th:only-of-type {\n",
              "        vertical-align: middle;\n",
              "    }\n",
              "\n",
              "    .dataframe tbody tr th {\n",
              "        vertical-align: top;\n",
              "    }\n",
              "\n",
              "    .dataframe thead th {\n",
              "        text-align: right;\n",
              "    }\n",
              "</style>\n",
              "<table border=\"1\" class=\"dataframe\">\n",
              "  <thead>\n",
              "    <tr style=\"text-align: right;\">\n",
              "      <th></th>\n",
              "      <th>name</th>\n",
              "      <th>institution</th>\n",
              "      <th>course_url</th>\n",
              "      <th>course_id</th>\n",
              "    </tr>\n",
              "  </thead>\n",
              "  <tbody>\n",
              "    <tr>\n",
              "      <th>count</th>\n",
              "      <td>623</td>\n",
              "      <td>623</td>\n",
              "      <td>623</td>\n",
              "      <td>623</td>\n",
              "    </tr>\n",
              "    <tr>\n",
              "      <th>unique</th>\n",
              "      <td>622</td>\n",
              "      <td>134</td>\n",
              "      <td>623</td>\n",
              "      <td>623</td>\n",
              "    </tr>\n",
              "    <tr>\n",
              "      <th>top</th>\n",
              "      <td>Introduction to Psychology</td>\n",
              "      <td>University of Pennsylvania</td>\n",
              "      <td>https://www.coursera.org/learn/machine-learning</td>\n",
              "      <td>machine-learning</td>\n",
              "    </tr>\n",
              "    <tr>\n",
              "      <th>freq</th>\n",
              "      <td>2</td>\n",
              "      <td>43</td>\n",
              "      <td>1</td>\n",
              "      <td>1</td>\n",
              "    </tr>\n",
              "  </tbody>\n",
              "</table>\n",
              "</div>"
            ],
            "text/plain": [
              "                              name                 institution  \\\n",
              "count                          623                         623   \n",
              "unique                         622                         134   \n",
              "top     Introduction to Psychology  University of Pennsylvania   \n",
              "freq                             2                          43   \n",
              "\n",
              "                                             course_url         course_id  \n",
              "count                                               623               623  \n",
              "unique                                              623               623  \n",
              "top     https://www.coursera.org/learn/machine-learning  machine-learning  \n",
              "freq                                                  1                 1  "
            ]
          },
          "execution_count": 19,
          "metadata": {},
          "output_type": "execute_result"
        }
      ],
      "source": [
        "courses_df.describe()"
      ]
    },
    {
      "cell_type": "code",
      "execution_count": 20,
      "metadata": {
        "colab": {
          "base_uri": "https://localhost:8080/"
        },
        "id": "mPQ-9ujIVaRn",
        "outputId": "e2b4f6f0-2b3b-497c-efbf-a5f111e1f63f"
      },
      "outputs": [
        {
          "data": {
            "text/plain": [
              "0"
            ]
          },
          "execution_count": 20,
          "metadata": {},
          "output_type": "execute_result"
        }
      ],
      "source": [
        "courses_df.duplicated().sum()"
      ]
    },
    {
      "cell_type": "markdown",
      "metadata": {
        "id": "VDcmWX74Vbzx"
      },
      "source": [
        "# Reviews"
      ]
    },
    {
      "cell_type": "code",
      "execution_count": 21,
      "metadata": {
        "colab": {
          "base_uri": "https://localhost:8080/"
        },
        "id": "un9uqXqUVde0",
        "outputId": "a3896160-4f73-4a7e-f87b-6888c47a0774"
      },
      "outputs": [
        {
          "data": {
            "text/html": [
              "<div>\n",
              "<style scoped>\n",
              "    .dataframe tbody tr th:only-of-type {\n",
              "        vertical-align: middle;\n",
              "    }\n",
              "\n",
              "    .dataframe tbody tr th {\n",
              "        vertical-align: top;\n",
              "    }\n",
              "\n",
              "    .dataframe thead th {\n",
              "        text-align: right;\n",
              "    }\n",
              "</style>\n",
              "<table border=\"1\" class=\"dataframe\">\n",
              "  <thead>\n",
              "    <tr style=\"text-align: right;\">\n",
              "      <th></th>\n",
              "      <th>reviews</th>\n",
              "      <th>reviewers</th>\n",
              "      <th>date_reviews</th>\n",
              "      <th>rating</th>\n",
              "      <th>course_id</th>\n",
              "    </tr>\n",
              "  </thead>\n",
              "  <tbody>\n",
              "    <tr>\n",
              "      <th>0</th>\n",
              "      <td>Pretty dry, but I was able to pass with just t...</td>\n",
              "      <td>By Robert S</td>\n",
              "      <td>Feb 12, 2020</td>\n",
              "      <td>4</td>\n",
              "      <td>google-cbrs-cpi-training</td>\n",
              "    </tr>\n",
              "    <tr>\n",
              "      <th>1</th>\n",
              "      <td>would be a better experience if the video and ...</td>\n",
              "      <td>By Gabriel E R</td>\n",
              "      <td>Sep 28, 2020</td>\n",
              "      <td>4</td>\n",
              "      <td>google-cbrs-cpi-training</td>\n",
              "    </tr>\n",
              "    <tr>\n",
              "      <th>2</th>\n",
              "      <td>Information was perfect! The program itself wa...</td>\n",
              "      <td>By Jacob D</td>\n",
              "      <td>Apr 08, 2020</td>\n",
              "      <td>4</td>\n",
              "      <td>google-cbrs-cpi-training</td>\n",
              "    </tr>\n",
              "    <tr>\n",
              "      <th>3</th>\n",
              "      <td>A few grammatical mistakes on test made me do ...</td>\n",
              "      <td>By Dale B</td>\n",
              "      <td>Feb 24, 2020</td>\n",
              "      <td>4</td>\n",
              "      <td>google-cbrs-cpi-training</td>\n",
              "    </tr>\n",
              "    <tr>\n",
              "      <th>4</th>\n",
              "      <td>Excellent course and the training provided was...</td>\n",
              "      <td>By Sean G</td>\n",
              "      <td>Jun 18, 2020</td>\n",
              "      <td>4</td>\n",
              "      <td>google-cbrs-cpi-training</td>\n",
              "    </tr>\n",
              "  </tbody>\n",
              "</table>\n",
              "</div>"
            ],
            "text/plain": [
              "                                             reviews       reviewers  \\\n",
              "0  Pretty dry, but I was able to pass with just t...     By Robert S   \n",
              "1  would be a better experience if the video and ...  By Gabriel E R   \n",
              "2  Information was perfect! The program itself wa...      By Jacob D   \n",
              "3  A few grammatical mistakes on test made me do ...       By Dale B   \n",
              "4  Excellent course and the training provided was...       By Sean G   \n",
              "\n",
              "   date_reviews  rating                 course_id  \n",
              "0  Feb 12, 2020       4  google-cbrs-cpi-training  \n",
              "1  Sep 28, 2020       4  google-cbrs-cpi-training  \n",
              "2  Apr 08, 2020       4  google-cbrs-cpi-training  \n",
              "3  Feb 24, 2020       4  google-cbrs-cpi-training  \n",
              "4  Jun 18, 2020       4  google-cbrs-cpi-training  "
            ]
          },
          "execution_count": 21,
          "metadata": {},
          "output_type": "execute_result"
        }
      ],
      "source": [
        "reviews_df.head()"
      ]
    },
    {
      "cell_type": "code",
      "execution_count": 22,
      "metadata": {
        "colab": {
          "base_uri": "https://localhost:8080/"
        },
        "id": "49CWLLUrVhFE",
        "outputId": "90d87d1f-62af-40cb-841f-30099bc5d167"
      },
      "outputs": [
        {
          "name": "stdout",
          "output_type": "stream",
          "text": [
            "<class 'pandas.core.frame.DataFrame'>\n",
            "RangeIndex: 1454711 entries, 0 to 1454710\n",
            "Data columns (total 5 columns):\n",
            " #   Column        Non-Null Count    Dtype \n",
            "---  ------        --------------    ----- \n",
            " 0   reviews       1454558 non-null  object\n",
            " 1   reviewers     1454711 non-null  object\n",
            " 2   date_reviews  1454711 non-null  object\n",
            " 3   rating        1454711 non-null  int64 \n",
            " 4   course_id     1454711 non-null  object\n",
            "dtypes: int64(1), object(4)\n",
            "memory usage: 55.5+ MB\n"
          ]
        }
      ],
      "source": [
        "reviews_df.info()"
      ]
    },
    {
      "cell_type": "code",
      "execution_count": 23,
      "metadata": {
        "colab": {
          "base_uri": "https://localhost:8080/"
        },
        "id": "-KE-_HtBVjyi",
        "outputId": "384e2861-3d64-4c2a-bf5e-61056f94c792"
      },
      "outputs": [
        {
          "data": {
            "text/html": [
              "<div>\n",
              "<style scoped>\n",
              "    .dataframe tbody tr th:only-of-type {\n",
              "        vertical-align: middle;\n",
              "    }\n",
              "\n",
              "    .dataframe tbody tr th {\n",
              "        vertical-align: top;\n",
              "    }\n",
              "\n",
              "    .dataframe thead th {\n",
              "        text-align: right;\n",
              "    }\n",
              "</style>\n",
              "<table border=\"1\" class=\"dataframe\">\n",
              "  <thead>\n",
              "    <tr style=\"text-align: right;\">\n",
              "      <th></th>\n",
              "      <th>reviews</th>\n",
              "      <th>reviewers</th>\n",
              "      <th>date_reviews</th>\n",
              "      <th>rating</th>\n",
              "      <th>course_id</th>\n",
              "    </tr>\n",
              "  </thead>\n",
              "  <tbody>\n",
              "    <tr>\n",
              "      <th>count</th>\n",
              "      <td>1454558</td>\n",
              "      <td>1454711</td>\n",
              "      <td>1454711</td>\n",
              "      <td>1.454711e+06</td>\n",
              "      <td>1454711</td>\n",
              "    </tr>\n",
              "    <tr>\n",
              "      <th>unique</th>\n",
              "      <td>458276</td>\n",
              "      <td>287808</td>\n",
              "      <td>1892</td>\n",
              "      <td>NaN</td>\n",
              "      <td>604</td>\n",
              "    </tr>\n",
              "    <tr>\n",
              "      <th>top</th>\n",
              "      <td>good</td>\n",
              "      <td>By Deleted A</td>\n",
              "      <td>May 25, 2020</td>\n",
              "      <td>NaN</td>\n",
              "      <td>python</td>\n",
              "    </tr>\n",
              "    <tr>\n",
              "      <th>freq</th>\n",
              "      <td>8827</td>\n",
              "      <td>5412</td>\n",
              "      <td>5394</td>\n",
              "      <td>NaN</td>\n",
              "      <td>45218</td>\n",
              "    </tr>\n",
              "    <tr>\n",
              "      <th>mean</th>\n",
              "      <td>NaN</td>\n",
              "      <td>NaN</td>\n",
              "      <td>NaN</td>\n",
              "      <td>4.696649e+00</td>\n",
              "      <td>NaN</td>\n",
              "    </tr>\n",
              "    <tr>\n",
              "      <th>std</th>\n",
              "      <td>NaN</td>\n",
              "      <td>NaN</td>\n",
              "      <td>NaN</td>\n",
              "      <td>6.983271e-01</td>\n",
              "      <td>NaN</td>\n",
              "    </tr>\n",
              "    <tr>\n",
              "      <th>min</th>\n",
              "      <td>NaN</td>\n",
              "      <td>NaN</td>\n",
              "      <td>NaN</td>\n",
              "      <td>1.000000e+00</td>\n",
              "      <td>NaN</td>\n",
              "    </tr>\n",
              "    <tr>\n",
              "      <th>25%</th>\n",
              "      <td>NaN</td>\n",
              "      <td>NaN</td>\n",
              "      <td>NaN</td>\n",
              "      <td>5.000000e+00</td>\n",
              "      <td>NaN</td>\n",
              "    </tr>\n",
              "    <tr>\n",
              "      <th>50%</th>\n",
              "      <td>NaN</td>\n",
              "      <td>NaN</td>\n",
              "      <td>NaN</td>\n",
              "      <td>5.000000e+00</td>\n",
              "      <td>NaN</td>\n",
              "    </tr>\n",
              "    <tr>\n",
              "      <th>75%</th>\n",
              "      <td>NaN</td>\n",
              "      <td>NaN</td>\n",
              "      <td>NaN</td>\n",
              "      <td>5.000000e+00</td>\n",
              "      <td>NaN</td>\n",
              "    </tr>\n",
              "    <tr>\n",
              "      <th>max</th>\n",
              "      <td>NaN</td>\n",
              "      <td>NaN</td>\n",
              "      <td>NaN</td>\n",
              "      <td>5.000000e+00</td>\n",
              "      <td>NaN</td>\n",
              "    </tr>\n",
              "  </tbody>\n",
              "</table>\n",
              "</div>"
            ],
            "text/plain": [
              "        reviews     reviewers  date_reviews        rating course_id\n",
              "count   1454558       1454711       1454711  1.454711e+06   1454711\n",
              "unique   458276        287808          1892           NaN       604\n",
              "top        good  By Deleted A  May 25, 2020           NaN    python\n",
              "freq       8827          5412          5394           NaN     45218\n",
              "mean        NaN           NaN           NaN  4.696649e+00       NaN\n",
              "std         NaN           NaN           NaN  6.983271e-01       NaN\n",
              "min         NaN           NaN           NaN  1.000000e+00       NaN\n",
              "25%         NaN           NaN           NaN  5.000000e+00       NaN\n",
              "50%         NaN           NaN           NaN  5.000000e+00       NaN\n",
              "75%         NaN           NaN           NaN  5.000000e+00       NaN\n",
              "max         NaN           NaN           NaN  5.000000e+00       NaN"
            ]
          },
          "execution_count": 23,
          "metadata": {},
          "output_type": "execute_result"
        }
      ],
      "source": [
        "reviews_df.describe(include='all')"
      ]
    },
    {
      "cell_type": "code",
      "execution_count": 24,
      "metadata": {
        "colab": {
          "base_uri": "https://localhost:8080/"
        },
        "id": "u6S4RI7IVld1",
        "outputId": "a229a00d-0639-47ec-dc5f-9ed42ceeef37"
      },
      "outputs": [
        {
          "data": {
            "text/plain": [
              "934764"
            ]
          },
          "execution_count": 24,
          "metadata": {},
          "output_type": "execute_result"
        }
      ],
      "source": [
        "reviews_df.duplicated().sum()"
      ]
    },
    {
      "cell_type": "code",
      "execution_count": 25,
      "metadata": {
        "colab": {
          "base_uri": "https://localhost:8080/"
        },
        "id": "LqDRlBmBVmiV",
        "outputId": "845b8510-c692-414d-acba-eac7da331013"
      },
      "outputs": [
        {
          "data": {
            "text/plain": [
              "reviews         153\n",
              "reviewers         0\n",
              "date_reviews      0\n",
              "rating            0\n",
              "course_id         0\n",
              "dtype: int64"
            ]
          },
          "execution_count": 25,
          "metadata": {},
          "output_type": "execute_result"
        }
      ],
      "source": [
        "reviews_df.isnull().sum()"
      ]
    },
    {
      "cell_type": "code",
      "execution_count": 26,
      "metadata": {
        "colab": {
          "base_uri": "https://localhost:8080/"
        },
        "id": "Cqwkgf-2VoW4",
        "outputId": "43941763-5a56-4f86-a7b9-d330ccf1d3d1"
      },
      "outputs": [
        {
          "data": {
            "text/html": [
              "<div>\n",
              "<style scoped>\n",
              "    .dataframe tbody tr th:only-of-type {\n",
              "        vertical-align: middle;\n",
              "    }\n",
              "\n",
              "    .dataframe tbody tr th {\n",
              "        vertical-align: top;\n",
              "    }\n",
              "\n",
              "    .dataframe thead th {\n",
              "        text-align: right;\n",
              "    }\n",
              "</style>\n",
              "<table border=\"1\" class=\"dataframe\">\n",
              "  <thead>\n",
              "    <tr style=\"text-align: right;\">\n",
              "      <th></th>\n",
              "      <th>reviews</th>\n",
              "      <th>reviewers</th>\n",
              "      <th>date_reviews</th>\n",
              "      <th>rating</th>\n",
              "      <th>course_id</th>\n",
              "    </tr>\n",
              "  </thead>\n",
              "  <tbody>\n",
              "    <tr>\n",
              "      <th>732410</th>\n",
              "      <td>The ethics unit examples were interesting.  Th...</td>\n",
              "      <td>Started Oct 05</td>\n",
              "      <td>Sep 09, 2020</td>\n",
              "      <td>4</td>\n",
              "      <td>intro-to-healthcare</td>\n",
              "    </tr>\n",
              "    <tr>\n",
              "      <th>732413</th>\n",
              "      <td>Wonderfully done</td>\n",
              "      <td>Started Oct 05</td>\n",
              "      <td>Sep 29, 2020</td>\n",
              "      <td>4</td>\n",
              "      <td>intro-to-healthcare</td>\n",
              "    </tr>\n",
              "    <tr>\n",
              "      <th>1046787</th>\n",
              "      <td>My certificate does not want to be released</td>\n",
              "      <td>Started Sep 28</td>\n",
              "      <td>Jul 20, 2020</td>\n",
              "      <td>1</td>\n",
              "      <td>entrepreneurship-strategy</td>\n",
              "    </tr>\n",
              "    <tr>\n",
              "      <th>1046790</th>\n",
              "      <td>knowing who you are? give me a break...</td>\n",
              "      <td>Started Sep 28</td>\n",
              "      <td>May 01, 2019</td>\n",
              "      <td>1</td>\n",
              "      <td>entrepreneurship-strategy</td>\n",
              "    </tr>\n",
              "    <tr>\n",
              "      <th>1236372</th>\n",
              "      <td>boring lecturer, monotone, passionless reading...</td>\n",
              "      <td>No Upcoming Session Available</td>\n",
              "      <td>Mar 22, 2016</td>\n",
              "      <td>1</td>\n",
              "      <td>epigenetics</td>\n",
              "    </tr>\n",
              "    <tr>\n",
              "      <th>1236375</th>\n",
              "      <td>the whole lecture given by the lecturer is so ...</td>\n",
              "      <td>No Upcoming Session Available</td>\n",
              "      <td>Jul 31, 2017</td>\n",
              "      <td>1</td>\n",
              "      <td>epigenetics</td>\n",
              "    </tr>\n",
              "    <tr>\n",
              "      <th>1259484</th>\n",
              "      <td>hola! me gustaría darme de baja de este curso....</td>\n",
              "      <td>Started Oct 05</td>\n",
              "      <td>Sep 09, 2020</td>\n",
              "      <td>1</td>\n",
              "      <td>social-economic-networks</td>\n",
              "    </tr>\n",
              "    <tr>\n",
              "      <th>1259487</th>\n",
              "      <td>Without previous knowledge in math, this cours...</td>\n",
              "      <td>Started Oct 05</td>\n",
              "      <td>Oct 27, 2018</td>\n",
              "      <td>1</td>\n",
              "      <td>social-economic-networks</td>\n",
              "    </tr>\n",
              "    <tr>\n",
              "      <th>1262903</th>\n",
              "      <td>How can you attend yo course which does not up...</td>\n",
              "      <td>Started Oct 05</td>\n",
              "      <td>Jun 28, 2020</td>\n",
              "      <td>1</td>\n",
              "      <td>curanderismo-plants</td>\n",
              "    </tr>\n",
              "    <tr>\n",
              "      <th>1262906</th>\n",
              "      <td>The course is not what I expected, and I would...</td>\n",
              "      <td>Started Oct 05</td>\n",
              "      <td>Oct 02, 2019</td>\n",
              "      <td>1</td>\n",
              "      <td>curanderismo-plants</td>\n",
              "    </tr>\n",
              "  </tbody>\n",
              "</table>\n",
              "</div>"
            ],
            "text/plain": [
              "                                                   reviews  \\\n",
              "732410   The ethics unit examples were interesting.  Th...   \n",
              "732413                                    Wonderfully done   \n",
              "1046787        My certificate does not want to be released   \n",
              "1046790            knowing who you are? give me a break...   \n",
              "1236372  boring lecturer, monotone, passionless reading...   \n",
              "1236375  the whole lecture given by the lecturer is so ...   \n",
              "1259484  hola! me gustaría darme de baja de este curso....   \n",
              "1259487  Without previous knowledge in math, this cours...   \n",
              "1262903  How can you attend yo course which does not up...   \n",
              "1262906  The course is not what I expected, and I would...   \n",
              "\n",
              "                             reviewers  date_reviews  rating  \\\n",
              "732410                  Started Oct 05  Sep 09, 2020       4   \n",
              "732413                  Started Oct 05  Sep 29, 2020       4   \n",
              "1046787                 Started Sep 28  Jul 20, 2020       1   \n",
              "1046790                 Started Sep 28  May 01, 2019       1   \n",
              "1236372  No Upcoming Session Available  Mar 22, 2016       1   \n",
              "1236375  No Upcoming Session Available  Jul 31, 2017       1   \n",
              "1259484                 Started Oct 05  Sep 09, 2020       1   \n",
              "1259487                 Started Oct 05  Oct 27, 2018       1   \n",
              "1262903                 Started Oct 05  Jun 28, 2020       1   \n",
              "1262906                 Started Oct 05  Oct 02, 2019       1   \n",
              "\n",
              "                         course_id  \n",
              "732410         intro-to-healthcare  \n",
              "732413         intro-to-healthcare  \n",
              "1046787  entrepreneurship-strategy  \n",
              "1046790  entrepreneurship-strategy  \n",
              "1236372                epigenetics  \n",
              "1236375                epigenetics  \n",
              "1259484   social-economic-networks  \n",
              "1259487   social-economic-networks  \n",
              "1262903        curanderismo-plants  \n",
              "1262906        curanderismo-plants  "
            ]
          },
          "execution_count": 26,
          "metadata": {},
          "output_type": "execute_result"
        }
      ],
      "source": [
        "unknown_reviewer_df = reviews_df[~(reviews_df['reviewers'].str.startswith('By'))]\n",
        "unknown_reviewer_df"
      ]
    },
    {
      "cell_type": "code",
      "execution_count": 27,
      "metadata": {
        "colab": {
          "base_uri": "https://localhost:8080/"
        },
        "id": "nA0wcZsIVrmI",
        "outputId": "d538c8b9-5466-4fe3-deab-11b2e4f54009"
      },
      "outputs": [
        {
          "data": {
            "text/html": [
              "<div>\n",
              "<style scoped>\n",
              "    .dataframe tbody tr th:only-of-type {\n",
              "        vertical-align: middle;\n",
              "    }\n",
              "\n",
              "    .dataframe tbody tr th {\n",
              "        vertical-align: top;\n",
              "    }\n",
              "\n",
              "    .dataframe thead th {\n",
              "        text-align: right;\n",
              "    }\n",
              "</style>\n",
              "<table border=\"1\" class=\"dataframe\">\n",
              "  <thead>\n",
              "    <tr style=\"text-align: right;\">\n",
              "      <th></th>\n",
              "      <th>course_id</th>\n",
              "      <th>count</th>\n",
              "    </tr>\n",
              "  </thead>\n",
              "  <tbody>\n",
              "    <tr>\n",
              "      <th>0</th>\n",
              "      <td>python</td>\n",
              "      <td>45218</td>\n",
              "    </tr>\n",
              "    <tr>\n",
              "      <th>1</th>\n",
              "      <td>machine-learning</td>\n",
              "      <td>35895</td>\n",
              "    </tr>\n",
              "    <tr>\n",
              "      <th>2</th>\n",
              "      <td>neural-networks-deep-learning</td>\n",
              "      <td>35750</td>\n",
              "    </tr>\n",
              "    <tr>\n",
              "      <th>3</th>\n",
              "      <td>technical-support-fundamentals</td>\n",
              "      <td>35319</td>\n",
              "    </tr>\n",
              "    <tr>\n",
              "      <th>4</th>\n",
              "      <td>python-data</td>\n",
              "      <td>33546</td>\n",
              "    </tr>\n",
              "    <tr>\n",
              "      <th>...</th>\n",
              "      <td>...</td>\n",
              "      <td>...</td>\n",
              "    </tr>\n",
              "    <tr>\n",
              "      <th>413</th>\n",
              "      <td>getting-started-with-google-sheets</td>\n",
              "      <td>517</td>\n",
              "    </tr>\n",
              "    <tr>\n",
              "      <th>414</th>\n",
              "      <td>quality-healthcare</td>\n",
              "      <td>516</td>\n",
              "    </tr>\n",
              "    <tr>\n",
              "      <th>415</th>\n",
              "      <td>process-mining</td>\n",
              "      <td>514</td>\n",
              "    </tr>\n",
              "    <tr>\n",
              "      <th>416</th>\n",
              "      <td>international-taxation</td>\n",
              "      <td>513</td>\n",
              "    </tr>\n",
              "    <tr>\n",
              "      <th>417</th>\n",
              "      <td>immunologyfundamentalsimmunitybcells</td>\n",
              "      <td>511</td>\n",
              "    </tr>\n",
              "  </tbody>\n",
              "</table>\n",
              "<p>418 rows × 2 columns</p>\n",
              "</div>"
            ],
            "text/plain": [
              "                                course_id  count\n",
              "0                                  python  45218\n",
              "1                        machine-learning  35895\n",
              "2           neural-networks-deep-learning  35750\n",
              "3          technical-support-fundamentals  35319\n",
              "4                             python-data  33546\n",
              "..                                    ...    ...\n",
              "413    getting-started-with-google-sheets    517\n",
              "414                    quality-healthcare    516\n",
              "415                        process-mining    514\n",
              "416                international-taxation    513\n",
              "417  immunologyfundamentalsimmunitybcells    511\n",
              "\n",
              "[418 rows x 2 columns]"
            ]
          },
          "execution_count": 27,
          "metadata": {},
          "output_type": "execute_result"
        }
      ],
      "source": [
        "num_of_reviews_by_course_df = reviews_df['course_id'].value_counts().reset_index()\n",
        "more_500_reviews_df = num_of_reviews_by_course_df[num_of_reviews_by_course_df['count'] > 500]\n",
        "more_500_reviews_df"
      ]
    },
    {
      "cell_type": "markdown",
      "metadata": {
        "id": "tpL7FGdyVvcM"
      },
      "source": [
        "# Data Cleaning"
      ]
    },
    {
      "cell_type": "code",
      "execution_count": 15,
      "metadata": {
        "colab": {
          "base_uri": "https://localhost:8080/"
        },
        "id": "V4xd9yZEVuye",
        "outputId": "61cbe338-0a0b-473c-e677-9284d655080e"
      },
      "outputs": [
        {
          "data": {
            "text/html": [
              "<div>\n",
              "<style scoped>\n",
              "    .dataframe tbody tr th:only-of-type {\n",
              "        vertical-align: middle;\n",
              "    }\n",
              "\n",
              "    .dataframe tbody tr th {\n",
              "        vertical-align: top;\n",
              "    }\n",
              "\n",
              "    .dataframe thead th {\n",
              "        text-align: right;\n",
              "    }\n",
              "</style>\n",
              "<table border=\"1\" class=\"dataframe\">\n",
              "  <thead>\n",
              "    <tr style=\"text-align: right;\">\n",
              "      <th></th>\n",
              "      <th>reviewers</th>\n",
              "      <th>rating</th>\n",
              "      <th>course_id</th>\n",
              "    </tr>\n",
              "  </thead>\n",
              "  <tbody>\n",
              "    <tr>\n",
              "      <th>87</th>\n",
              "      <td>By James R</td>\n",
              "      <td>1</td>\n",
              "      <td>financial-markets-global</td>\n",
              "    </tr>\n",
              "    <tr>\n",
              "      <th>88</th>\n",
              "      <td>By Sanam P</td>\n",
              "      <td>1</td>\n",
              "      <td>financial-markets-global</td>\n",
              "    </tr>\n",
              "    <tr>\n",
              "      <th>89</th>\n",
              "      <td>By Brendan F</td>\n",
              "      <td>1</td>\n",
              "      <td>financial-markets-global</td>\n",
              "    </tr>\n",
              "    <tr>\n",
              "      <th>90</th>\n",
              "      <td>By Eli</td>\n",
              "      <td>1</td>\n",
              "      <td>financial-markets-global</td>\n",
              "    </tr>\n",
              "    <tr>\n",
              "      <th>91</th>\n",
              "      <td>By Sebastian S</td>\n",
              "      <td>1</td>\n",
              "      <td>financial-markets-global</td>\n",
              "    </tr>\n",
              "  </tbody>\n",
              "</table>\n",
              "</div>"
            ],
            "text/plain": [
              "         reviewers  rating                 course_id\n",
              "87      By James R       1  financial-markets-global\n",
              "88      By Sanam P       1  financial-markets-global\n",
              "89    By Brendan F       1  financial-markets-global\n",
              "90          By Eli       1  financial-markets-global\n",
              "91  By Sebastian S       1  financial-markets-global"
            ]
          },
          "execution_count": 15,
          "metadata": {},
          "output_type": "execute_result"
        }
      ],
      "source": [
        "new_reviews_df = reviews_df[['reviewers','rating','course_id']].copy()\n",
        "\n",
        "# Ambil kursus yang hanya memiliki lebih dari 500 reviews\n",
        "new_reviews_df = new_reviews_df[new_reviews_df['course_id']\\\n",
        "                                .isin(set(more_500_reviews_df['course_id']))]\n",
        "\n",
        "# Ambil data yang reviewernya diawali dengan 'By' kecuali 'By Deleted A'\n",
        "new_reviews_df = new_reviews_df[(new_reviews_df['reviewers'].str.contains('By')) &\n",
        "                                (new_reviews_df['reviewers']!='By Deleted A')]\n",
        "\n",
        "# Hapus data yang memiliki nilai null\n",
        "new_reviews_df.dropna(inplace=True)\n",
        "\n",
        "# Hapus data duplikat\n",
        "new_reviews_df.drop_duplicates(inplace=True)\n",
        "\n",
        "new_reviews_df.head()"
      ]
    },
    {
      "cell_type": "code",
      "execution_count": 16,
      "metadata": {
        "colab": {
          "base_uri": "https://localhost:8080/"
        },
        "id": "7BSCNde2Vyyk",
        "outputId": "ea5f0479-386a-428c-fa4f-9b82b8c61db5"
      },
      "outputs": [
        {
          "data": {
            "text/html": [
              "<div>\n",
              "<style scoped>\n",
              "    .dataframe tbody tr th:only-of-type {\n",
              "        vertical-align: middle;\n",
              "    }\n",
              "\n",
              "    .dataframe tbody tr th {\n",
              "        vertical-align: top;\n",
              "    }\n",
              "\n",
              "    .dataframe thead th {\n",
              "        text-align: right;\n",
              "    }\n",
              "</style>\n",
              "<table border=\"1\" class=\"dataframe\">\n",
              "  <thead>\n",
              "    <tr style=\"text-align: right;\">\n",
              "      <th></th>\n",
              "      <th>reviewers</th>\n",
              "      <th>rating</th>\n",
              "      <th>course_id</th>\n",
              "    </tr>\n",
              "  </thead>\n",
              "  <tbody>\n",
              "    <tr>\n",
              "      <th>87</th>\n",
              "      <td>James R</td>\n",
              "      <td>1</td>\n",
              "      <td>financial-markets-global</td>\n",
              "    </tr>\n",
              "    <tr>\n",
              "      <th>88</th>\n",
              "      <td>Sanam P</td>\n",
              "      <td>1</td>\n",
              "      <td>financial-markets-global</td>\n",
              "    </tr>\n",
              "    <tr>\n",
              "      <th>89</th>\n",
              "      <td>Brendan F</td>\n",
              "      <td>1</td>\n",
              "      <td>financial-markets-global</td>\n",
              "    </tr>\n",
              "    <tr>\n",
              "      <th>90</th>\n",
              "      <td>Eli</td>\n",
              "      <td>1</td>\n",
              "      <td>financial-markets-global</td>\n",
              "    </tr>\n",
              "    <tr>\n",
              "      <th>91</th>\n",
              "      <td>Sebastian S</td>\n",
              "      <td>1</td>\n",
              "      <td>financial-markets-global</td>\n",
              "    </tr>\n",
              "  </tbody>\n",
              "</table>\n",
              "</div>"
            ],
            "text/plain": [
              "      reviewers  rating                 course_id\n",
              "87      James R       1  financial-markets-global\n",
              "88      Sanam P       1  financial-markets-global\n",
              "89    Brendan F       1  financial-markets-global\n",
              "90          Eli       1  financial-markets-global\n",
              "91  Sebastian S       1  financial-markets-global"
            ]
          },
          "execution_count": 16,
          "metadata": {},
          "output_type": "execute_result"
        }
      ],
      "source": [
        "new_reviews_df['reviewers'] = new_reviews_df['reviewers']\\\n",
        "                      .apply(lambda x: ' '.join(x.split(' ')[1:]))\n",
        "new_reviews_df.head()"
      ]
    },
    {
      "cell_type": "code",
      "execution_count": 17,
      "metadata": {
        "colab": {
          "base_uri": "https://localhost:8080/"
        },
        "id": "fPi9WmAIV2C2",
        "outputId": "838977d5-579d-41a6-c3a5-fd6d641b02f0"
      },
      "outputs": [
        {
          "data": {
            "text/plain": [
              "(493484, 3)"
            ]
          },
          "execution_count": 17,
          "metadata": {},
          "output_type": "execute_result"
        }
      ],
      "source": [
        "new_reviews_df.shape"
      ]
    },
    {
      "cell_type": "code",
      "execution_count": 18,
      "metadata": {
        "colab": {
          "base_uri": "https://localhost:8080/"
        },
        "id": "gxCfxjX8V3sE",
        "outputId": "9bb3395b-303e-43aa-febc-35be5d456dde"
      },
      "outputs": [
        {
          "data": {
            "text/plain": [
              "418"
            ]
          },
          "execution_count": 18,
          "metadata": {},
          "output_type": "execute_result"
        }
      ],
      "source": [
        "new_reviews_df['course_id'].nunique()"
      ]
    },
    {
      "cell_type": "markdown",
      "metadata": {
        "id": "GEgmiwXCV7LB"
      },
      "source": [
        "Data Preparation"
      ]
    },
    {
      "cell_type": "code",
      "execution_count": 19,
      "metadata": {
        "colab": {
          "base_uri": "https://localhost:8080/"
        },
        "id": "y7SrGSJxV8kW",
        "outputId": "7c32a745-4d20-45d3-d7f2-eafb43205915"
      },
      "outputs": [
        {
          "data": {
            "text/html": [
              "<div>\n",
              "<style scoped>\n",
              "    .dataframe tbody tr th:only-of-type {\n",
              "        vertical-align: middle;\n",
              "    }\n",
              "\n",
              "    .dataframe tbody tr th {\n",
              "        vertical-align: top;\n",
              "    }\n",
              "\n",
              "    .dataframe thead th {\n",
              "        text-align: right;\n",
              "    }\n",
              "</style>\n",
              "<table border=\"1\" class=\"dataframe\">\n",
              "  <thead>\n",
              "    <tr style=\"text-align: right;\">\n",
              "      <th></th>\n",
              "      <th>name</th>\n",
              "      <th>course_url</th>\n",
              "      <th>course_id</th>\n",
              "      <th>reviewers</th>\n",
              "      <th>rating</th>\n",
              "    </tr>\n",
              "  </thead>\n",
              "  <tbody>\n",
              "    <tr>\n",
              "      <th>0</th>\n",
              "      <td>Machine Learning</td>\n",
              "      <td>https://www.coursera.org/learn/machine-learning</td>\n",
              "      <td>machine-learning</td>\n",
              "      <td>Bruno C</td>\n",
              "      <td>1</td>\n",
              "    </tr>\n",
              "    <tr>\n",
              "      <th>1</th>\n",
              "      <td>Machine Learning</td>\n",
              "      <td>https://www.coursera.org/learn/machine-learning</td>\n",
              "      <td>machine-learning</td>\n",
              "      <td>Fadi</td>\n",
              "      <td>1</td>\n",
              "    </tr>\n",
              "    <tr>\n",
              "      <th>2</th>\n",
              "      <td>Machine Learning</td>\n",
              "      <td>https://www.coursera.org/learn/machine-learning</td>\n",
              "      <td>machine-learning</td>\n",
              "      <td>Mathew L</td>\n",
              "      <td>1</td>\n",
              "    </tr>\n",
              "    <tr>\n",
              "      <th>3</th>\n",
              "      <td>Machine Learning</td>\n",
              "      <td>https://www.coursera.org/learn/machine-learning</td>\n",
              "      <td>machine-learning</td>\n",
              "      <td>Rui C</td>\n",
              "      <td>1</td>\n",
              "    </tr>\n",
              "    <tr>\n",
              "      <th>4</th>\n",
              "      <td>Machine Learning</td>\n",
              "      <td>https://www.coursera.org/learn/machine-learning</td>\n",
              "      <td>machine-learning</td>\n",
              "      <td>Mehdi A</td>\n",
              "      <td>1</td>\n",
              "    </tr>\n",
              "  </tbody>\n",
              "</table>\n",
              "</div>"
            ],
            "text/plain": [
              "               name                                       course_url  \\\n",
              "0  Machine Learning  https://www.coursera.org/learn/machine-learning   \n",
              "1  Machine Learning  https://www.coursera.org/learn/machine-learning   \n",
              "2  Machine Learning  https://www.coursera.org/learn/machine-learning   \n",
              "3  Machine Learning  https://www.coursera.org/learn/machine-learning   \n",
              "4  Machine Learning  https://www.coursera.org/learn/machine-learning   \n",
              "\n",
              "          course_id reviewers  rating  \n",
              "0  machine-learning   Bruno C       1  \n",
              "1  machine-learning      Fadi       1  \n",
              "2  machine-learning  Mathew L       1  \n",
              "3  machine-learning     Rui C       1  \n",
              "4  machine-learning   Mehdi A       1  "
            ]
          },
          "execution_count": 19,
          "metadata": {},
          "output_type": "execute_result"
        }
      ],
      "source": [
        "merged_df = pd.merge(courses_df[['name','course_url','course_id']],\n",
        "                     new_reviews_df,\n",
        "                     on='course_id')\n",
        "\n",
        "merged_df.head()"
      ]
    },
    {
      "cell_type": "code",
      "execution_count": 20,
      "metadata": {
        "id": "N0vwYjmmV-3w"
      },
      "outputs": [],
      "source": [
        "data_prep_df = merged_df.copy()\n",
        "\n",
        "users_list = data_prep_df['reviewers'].unique().tolist()\n",
        "courses_list = data_prep_df['course_id'].unique().tolist()\n",
        "\n",
        "# Encode users dan courses\n",
        "users_encoded = {user: i+1 for i, user in enumerate(users_list)}\n",
        "courses_encoded = {course: i+1 for i, course in enumerate(courses_list)}\n",
        "\n",
        "# Decode users dan courses\n",
        "users_decoded = {i+1: user for i, user in enumerate(users_list)}\n",
        "courses_decoded = {i+1: course for i, course in enumerate(courses_list)}"
      ]
    },
    {
      "cell_type": "code",
      "execution_count": 21,
      "metadata": {
        "colab": {
          "base_uri": "https://localhost:8080/"
        },
        "id": "YqxfbqkIV_2A",
        "outputId": "535e8226-3f7d-4aae-d103-4a7c29f7a7a5"
      },
      "outputs": [
        {
          "data": {
            "text/html": [
              "<div>\n",
              "<style scoped>\n",
              "    .dataframe tbody tr th:only-of-type {\n",
              "        vertical-align: middle;\n",
              "    }\n",
              "\n",
              "    .dataframe tbody tr th {\n",
              "        vertical-align: top;\n",
              "    }\n",
              "\n",
              "    .dataframe thead th {\n",
              "        text-align: right;\n",
              "    }\n",
              "</style>\n",
              "<table border=\"1\" class=\"dataframe\">\n",
              "  <thead>\n",
              "    <tr style=\"text-align: right;\">\n",
              "      <th></th>\n",
              "      <th>name</th>\n",
              "      <th>course_url</th>\n",
              "      <th>course_id</th>\n",
              "      <th>reviewers</th>\n",
              "      <th>rating</th>\n",
              "      <th>user_id</th>\n",
              "    </tr>\n",
              "  </thead>\n",
              "  <tbody>\n",
              "    <tr>\n",
              "      <th>0</th>\n",
              "      <td>Machine Learning</td>\n",
              "      <td>https://www.coursera.org/learn/machine-learning</td>\n",
              "      <td>1</td>\n",
              "      <td>Bruno C</td>\n",
              "      <td>1</td>\n",
              "      <td>1</td>\n",
              "    </tr>\n",
              "    <tr>\n",
              "      <th>1</th>\n",
              "      <td>Machine Learning</td>\n",
              "      <td>https://www.coursera.org/learn/machine-learning</td>\n",
              "      <td>1</td>\n",
              "      <td>Fadi</td>\n",
              "      <td>1</td>\n",
              "      <td>2</td>\n",
              "    </tr>\n",
              "    <tr>\n",
              "      <th>2</th>\n",
              "      <td>Machine Learning</td>\n",
              "      <td>https://www.coursera.org/learn/machine-learning</td>\n",
              "      <td>1</td>\n",
              "      <td>Mathew L</td>\n",
              "      <td>1</td>\n",
              "      <td>3</td>\n",
              "    </tr>\n",
              "    <tr>\n",
              "      <th>3</th>\n",
              "      <td>Machine Learning</td>\n",
              "      <td>https://www.coursera.org/learn/machine-learning</td>\n",
              "      <td>1</td>\n",
              "      <td>Rui C</td>\n",
              "      <td>1</td>\n",
              "      <td>4</td>\n",
              "    </tr>\n",
              "    <tr>\n",
              "      <th>4</th>\n",
              "      <td>Machine Learning</td>\n",
              "      <td>https://www.coursera.org/learn/machine-learning</td>\n",
              "      <td>1</td>\n",
              "      <td>Mehdi A</td>\n",
              "      <td>1</td>\n",
              "      <td>5</td>\n",
              "    </tr>\n",
              "  </tbody>\n",
              "</table>\n",
              "</div>"
            ],
            "text/plain": [
              "               name                                       course_url  \\\n",
              "0  Machine Learning  https://www.coursera.org/learn/machine-learning   \n",
              "1  Machine Learning  https://www.coursera.org/learn/machine-learning   \n",
              "2  Machine Learning  https://www.coursera.org/learn/machine-learning   \n",
              "3  Machine Learning  https://www.coursera.org/learn/machine-learning   \n",
              "4  Machine Learning  https://www.coursera.org/learn/machine-learning   \n",
              "\n",
              "   course_id reviewers  rating  user_id  \n",
              "0          1   Bruno C       1        1  \n",
              "1          1      Fadi       1        2  \n",
              "2          1  Mathew L       1        3  \n",
              "3          1     Rui C       1        4  \n",
              "4          1   Mehdi A       1        5  "
            ]
          },
          "execution_count": 21,
          "metadata": {},
          "output_type": "execute_result"
        }
      ],
      "source": [
        "data_prep_df['user_id'] = data_prep_df['reviewers'].map(users_encoded)\n",
        "data_prep_df['course_id'] = data_prep_df['course_id'].map(courses_encoded)\n",
        "\n",
        "data_prep_df.head()"
      ]
    },
    {
      "cell_type": "code",
      "execution_count": 22,
      "metadata": {
        "id": "FaTLjTIkWHhx"
      },
      "outputs": [],
      "source": [
        "data_prep_df.to_csv('data_prep.csv', index=False)"
      ]
    },
    {
      "cell_type": "code",
      "execution_count": 23,
      "metadata": {
        "colab": {
          "base_uri": "https://localhost:8080/"
        },
        "id": "KPBbm4v7WFnC",
        "outputId": "3bf24188-804a-4f5a-bc6d-a423f64f7b65"
      },
      "outputs": [
        {
          "name": "stdout",
          "output_type": "stream",
          "text": [
            "Number of User: 281001\n",
            "Number of Course: 418\n",
            "Min Rating: 1.0\n",
            "Max Rating: 5.0\n"
          ]
        }
      ],
      "source": [
        "# Mendapatkan jumlah user\n",
        "num_users = len(users_encoded)\n",
        "\n",
        "# Mendapatkan jumlah kursus\n",
        "num_courses = len(courses_encoded)\n",
        "\n",
        "# Mengubah rating menjadi nilai float\n",
        "data_prep_df['rating'] = data_prep_df['rating'].values.astype(np.float32)\n",
        "\n",
        "# Nilai minimum rating\n",
        "min_rating = min(data_prep_df['rating'])\n",
        "\n",
        "# Nilai maksimal rating\n",
        "max_rating = max(data_prep_df['rating'])\n",
        "\n",
        "print(f'Number of User: {num_users}\\nNumber of Course: {num_courses}\\nMin Rating: {min_rating}\\nMax Rating: {max_rating}')"
      ]
    },
    {
      "cell_type": "code",
      "execution_count": 24,
      "metadata": {
        "colab": {
          "base_uri": "https://localhost:8080/"
        },
        "id": "MuwCpp7cXWh4",
        "outputId": "9fbc4005-4b30-4254-a12f-e70ad45a772f"
      },
      "outputs": [
        {
          "data": {
            "text/html": [
              "<div>\n",
              "<style scoped>\n",
              "    .dataframe tbody tr th:only-of-type {\n",
              "        vertical-align: middle;\n",
              "    }\n",
              "\n",
              "    .dataframe tbody tr th {\n",
              "        vertical-align: top;\n",
              "    }\n",
              "\n",
              "    .dataframe thead th {\n",
              "        text-align: right;\n",
              "    }\n",
              "</style>\n",
              "<table border=\"1\" class=\"dataframe\">\n",
              "  <thead>\n",
              "    <tr style=\"text-align: right;\">\n",
              "      <th></th>\n",
              "      <th>name</th>\n",
              "      <th>course_url</th>\n",
              "      <th>course_id</th>\n",
              "      <th>reviewers</th>\n",
              "      <th>rating</th>\n",
              "      <th>user_id</th>\n",
              "    </tr>\n",
              "  </thead>\n",
              "  <tbody>\n",
              "    <tr>\n",
              "      <th>260196</th>\n",
              "      <td>Gamification</td>\n",
              "      <td>https://www.coursera.org/learn/gamification</td>\n",
              "      <td>99</td>\n",
              "      <td>Valery L</td>\n",
              "      <td>5.0</td>\n",
              "      <td>87097</td>\n",
              "    </tr>\n",
              "    <tr>\n",
              "      <th>419467</th>\n",
              "      <td>Version Control with Git</td>\n",
              "      <td>https://www.coursera.org/learn/version-control...</td>\n",
              "      <td>292</td>\n",
              "      <td>Brayan Y M C</td>\n",
              "      <td>5.0</td>\n",
              "      <td>246863</td>\n",
              "    </tr>\n",
              "    <tr>\n",
              "      <th>415296</th>\n",
              "      <td>Econometrics: Methods and Applications</td>\n",
              "      <td>https://www.coursera.org/learn/erasmus-econome...</td>\n",
              "      <td>286</td>\n",
              "      <td>Mrinal</td>\n",
              "      <td>5.0</td>\n",
              "      <td>42197</td>\n",
              "    </tr>\n",
              "    <tr>\n",
              "      <th>191024</th>\n",
              "      <td>Customer Analytics</td>\n",
              "      <td>https://www.coursera.org/learn/wharton-custome...</td>\n",
              "      <td>50</td>\n",
              "      <td>Xinmiao Z</td>\n",
              "      <td>5.0</td>\n",
              "      <td>133760</td>\n",
              "    </tr>\n",
              "    <tr>\n",
              "      <th>448144</th>\n",
              "      <td>The Technology of Music Production</td>\n",
              "      <td>https://www.coursera.org/learn/technology-of-m...</td>\n",
              "      <td>332</td>\n",
              "      <td>Suryadeep D</td>\n",
              "      <td>5.0</td>\n",
              "      <td>91252</td>\n",
              "    </tr>\n",
              "  </tbody>\n",
              "</table>\n",
              "</div>"
            ],
            "text/plain": [
              "                                          name  \\\n",
              "260196                            Gamification   \n",
              "419467                Version Control with Git   \n",
              "415296  Econometrics: Methods and Applications   \n",
              "191024                      Customer Analytics   \n",
              "448144      The Technology of Music Production   \n",
              "\n",
              "                                               course_url  course_id  \\\n",
              "260196        https://www.coursera.org/learn/gamification         99   \n",
              "419467  https://www.coursera.org/learn/version-control...        292   \n",
              "415296  https://www.coursera.org/learn/erasmus-econome...        286   \n",
              "191024  https://www.coursera.org/learn/wharton-custome...         50   \n",
              "448144  https://www.coursera.org/learn/technology-of-m...        332   \n",
              "\n",
              "           reviewers  rating  user_id  \n",
              "260196      Valery L     5.0    87097  \n",
              "419467  Brayan Y M C     5.0   246863  \n",
              "415296        Mrinal     5.0    42197  \n",
              "191024     Xinmiao Z     5.0   133760  \n",
              "448144   Suryadeep D     5.0    91252  "
            ]
          },
          "execution_count": 24,
          "metadata": {},
          "output_type": "execute_result"
        }
      ],
      "source": [
        "data_prep_df = data_prep_df.sample(frac=1, random_state=42)\n",
        "data_prep_df.head()"
      ]
    },
    {
      "cell_type": "code",
      "execution_count": 25,
      "metadata": {
        "colab": {
          "base_uri": "https://localhost:8080/"
        },
        "id": "peWfeqySXYwm",
        "outputId": "2f3d8fca-7ebc-4b69-fc63-759e4ec173f9"
      },
      "outputs": [
        {
          "data": {
            "text/html": [
              "<div>\n",
              "<style scoped>\n",
              "    .dataframe tbody tr th:only-of-type {\n",
              "        vertical-align: middle;\n",
              "    }\n",
              "\n",
              "    .dataframe tbody tr th {\n",
              "        vertical-align: top;\n",
              "    }\n",
              "\n",
              "    .dataframe thead th {\n",
              "        text-align: right;\n",
              "    }\n",
              "</style>\n",
              "<table border=\"1\" class=\"dataframe\">\n",
              "  <thead>\n",
              "    <tr style=\"text-align: right;\">\n",
              "      <th></th>\n",
              "      <th>name</th>\n",
              "      <th>course_url</th>\n",
              "      <th>course_id</th>\n",
              "      <th>rating</th>\n",
              "    </tr>\n",
              "  </thead>\n",
              "  <tbody>\n",
              "    <tr>\n",
              "      <th>0</th>\n",
              "      <td>A Law Student's Toolkit</td>\n",
              "      <td>https://www.coursera.org/learn/law-student</td>\n",
              "      <td>307</td>\n",
              "      <td>4.68</td>\n",
              "    </tr>\n",
              "    <tr>\n",
              "      <th>1</th>\n",
              "      <td>AI For Everyone</td>\n",
              "      <td>https://www.coursera.org/learn/ai-for-everyone</td>\n",
              "      <td>9</td>\n",
              "      <td>4.84</td>\n",
              "    </tr>\n",
              "    <tr>\n",
              "      <th>2</th>\n",
              "      <td>AI for Medical Diagnosis</td>\n",
              "      <td>https://www.coursera.org/learn/ai-for-medical-...</td>\n",
              "      <td>184</td>\n",
              "      <td>4.58</td>\n",
              "    </tr>\n",
              "    <tr>\n",
              "      <th>3</th>\n",
              "      <td>AWS Fundamentals: Addressing Security Risk</td>\n",
              "      <td>https://www.coursera.org/learn/aws-fundamental...</td>\n",
              "      <td>353</td>\n",
              "      <td>4.16</td>\n",
              "    </tr>\n",
              "    <tr>\n",
              "      <th>4</th>\n",
              "      <td>AWS Fundamentals: Going Cloud-Native</td>\n",
              "      <td>https://www.coursera.org/learn/aws-fundamental...</td>\n",
              "      <td>118</td>\n",
              "      <td>4.68</td>\n",
              "    </tr>\n",
              "  </tbody>\n",
              "</table>\n",
              "</div>"
            ],
            "text/plain": [
              "                                         name  \\\n",
              "0                     A Law Student's Toolkit   \n",
              "1                             AI For Everyone   \n",
              "2                    AI for Medical Diagnosis   \n",
              "3  AWS Fundamentals: Addressing Security Risk   \n",
              "4        AWS Fundamentals: Going Cloud-Native   \n",
              "\n",
              "                                          course_url  course_id  rating  \n",
              "0         https://www.coursera.org/learn/law-student        307    4.68  \n",
              "1     https://www.coursera.org/learn/ai-for-everyone          9    4.84  \n",
              "2  https://www.coursera.org/learn/ai-for-medical-...        184    4.58  \n",
              "3  https://www.coursera.org/learn/aws-fundamental...        353    4.16  \n",
              "4  https://www.coursera.org/learn/aws-fundamental...        118    4.68  "
            ]
          },
          "execution_count": 25,
          "metadata": {},
          "output_type": "execute_result"
        }
      ],
      "source": [
        "final_rating_df = data_prep_df[['name', 'course_url','rating', 'course_id']].copy()\n",
        "final_rating_df = final_rating_df.groupby(['name',\n",
        "                                           'course_url',\n",
        "                                           'course_id']\n",
        "                                          )['rating'].mean().reset_index()\n",
        "final_rating_df['rating'] = round(final_rating_df['rating'], 2)\n",
        "final_rating_df.head()"
      ]
    },
    {
      "cell_type": "code",
      "execution_count": 26,
      "metadata": {
        "id": "mBYPjLxEXatl"
      },
      "outputs": [],
      "source": [
        "final_rating_df.to_csv('final_rating_df.csv', index=False)"
      ]
    },
    {
      "cell_type": "markdown",
      "metadata": {
        "id": "i8oHj-B0XlKq"
      },
      "source": [
        "# Data Splitting"
      ]
    },
    {
      "cell_type": "code",
      "execution_count": 27,
      "metadata": {
        "colab": {
          "base_uri": "https://localhost:8080/"
        },
        "id": "hXkP3SaiXmtH",
        "outputId": "00fab16e-9e37-447f-a9a6-7eff94bb6f27"
      },
      "outputs": [
        {
          "name": "stdout",
          "output_type": "stream",
          "text": [
            "[[ 87097     99]\n",
            " [246863    292]\n",
            " [ 42197    286]\n",
            " ...\n",
            " [ 15531     26]\n",
            " [110133     28]\n",
            " [ 47531     23]] [1. 1. 1. ... 1. 1. 1.]\n"
          ]
        }
      ],
      "source": [
        "final_df = data_prep_df.copy()\n",
        "\n",
        "x = final_df[['user_id', 'course_id']].values\n",
        "\n",
        "y = final_df['rating'].apply(lambda x:\\\n",
        "    (x - min_rating) / (max_rating - min_rating)).values\n",
        "\n",
        "# Membagi menjadi 98% data train dan 2% data validasi\n",
        "train_indices = int(0.90 * final_df.shape[0])\n",
        "x_train, x_val, y_train, y_val = (\n",
        "    x[:train_indices],\n",
        "    x[train_indices:],\n",
        "    y[:train_indices],\n",
        "    y[train_indices:]\n",
        ")\n",
        "\n",
        "print(x, y)\n"
      ]
    },
    {
      "cell_type": "code",
      "execution_count": 28,
      "metadata": {
        "colab": {
          "base_uri": "https://localhost:8080/"
        },
        "id": "F8uHxoUeXonf",
        "outputId": "298ef045-0d53-45fe-b14b-cbb93399ced4"
      },
      "outputs": [
        {
          "name": "stdout",
          "output_type": "stream",
          "text": [
            "Indeks data anomali: [    43    389    453 ... 493252 493311 493458]\n"
          ]
        }
      ],
      "source": [
        "from sklearn.ensemble import IsolationForest\n",
        "\n",
        "X_combined = np.hstack((x, y.reshape(-1, 1)))\n",
        "iso_forest = IsolationForest(contamination=0.01, random_state=42)\n",
        "iso_forest.fit(X_combined)\n",
        "\n",
        "y_pred = iso_forest.predict(X_combined)\n",
        "\n",
        "outliers_index = np.where(y_pred == -1)[0]\n",
        "print(\"Indeks data anomali:\", outliers_index)\n"
      ]
    },
    {
      "cell_type": "code",
      "execution_count": 29,
      "metadata": {
        "colab": {
          "base_uri": "https://localhost:8080/"
        },
        "id": "ECZpjFoXXqU9",
        "outputId": "22301e3c-0901-422d-d5e1-fbaad3ffd203"
      },
      "outputs": [
        {
          "name": "stdout",
          "output_type": "stream",
          "text": [
            "Jumlah data sebelum menghapus anomali: 493484\n",
            "Jumlah data setelah menghapus anomali: 488554\n"
          ]
        }
      ],
      "source": [
        "final_df_cleaned = final_df.drop(outliers_index)\n",
        "final_df_cleaned.reset_index(drop=True, inplace=True)\n",
        "\n",
        "print(f\"Jumlah data sebelum menghapus anomali: {final_df.shape[0]}\")\n",
        "print(f\"Jumlah data setelah menghapus anomali: {final_df_cleaned.shape[0]}\")"
      ]
    },
    {
      "cell_type": "code",
      "execution_count": 30,
      "metadata": {
        "colab": {
          "base_uri": "https://localhost:8080/"
        },
        "id": "iNh1XySZXuN5",
        "outputId": "fef89bf2-c4ae-4d75-e45d-ce4a1c662646"
      },
      "outputs": [
        {
          "name": "stdout",
          "output_type": "stream",
          "text": [
            "[[ 87097     99]\n",
            " [246863    292]\n",
            " [ 42197    286]\n",
            " ...\n",
            " [221799    208]\n",
            " [110133     28]\n",
            " [ 47531     23]] [1. 1. 1. ... 1. 1. 1.]\n",
            "Jumlah data training: 439698\n",
            "Jumlah data validasi: 48856\n"
          ]
        }
      ],
      "source": [
        "final_df_cleaned = final_df_cleaned.copy()\n",
        "\n",
        "x = final_df_cleaned[['user_id', 'course_id']].values\n",
        "\n",
        "y = final_df_cleaned['rating'].apply(lambda x:\\\n",
        "    (x - min_rating) / (max_rating - min_rating)).values\n",
        "\n",
        "#Membagi menjadi 90% data train dan 10% data validasi\n",
        "train_indices = int(0.90 * final_df_cleaned.shape[0])\n",
        "x_train, x_val, y_train, y_val = (\n",
        "    x[:train_indices],\n",
        "    x[train_indices:],\n",
        "    y[:train_indices],\n",
        "    y[train_indices:]\n",
        ")\n",
        "\n",
        "print(x, y)\n",
        "print(\"Jumlah data training:\", len(x_train))\n",
        "print(\"Jumlah data validasi:\", len(x_val))"
      ]
    },
    {
      "cell_type": "code",
      "execution_count": 31,
      "metadata": {
        "colab": {
          "base_uri": "https://localhost:8080/"
        },
        "id": "L_RLRaekPaua",
        "outputId": "57f61cec-e769-4d45-86de-fe6a65587a02"
      },
      "outputs": [
        {
          "name": "stdout",
          "output_type": "stream",
          "text": [
            "Jumlah data training: 439698\n",
            "Jumlah data validasi: 48856\n"
          ]
        }
      ],
      "source": [
        "print(\"Jumlah data training:\", len(x_train))\n",
        "print(\"Jumlah data validasi:\", len(x_val))"
      ]
    },
    {
      "cell_type": "markdown",
      "metadata": {
        "id": "Mq9gHYOjX30z"
      },
      "source": [
        "# Modeling"
      ]
    },
    {
      "cell_type": "code",
      "execution_count": 32,
      "metadata": {
        "id": "xHM0VO3gX22B"
      },
      "outputs": [],
      "source": [
        "import tensorflow as tf\n",
        "from tensorflow.keras import layers, Model\n",
        "from tensorflow.keras.callbacks import Callback\n",
        "from tensorflow.keras.callbacks import EarlyStopping\n",
        "from sklearn.model_selection import KFold\n",
        "\n",
        "# kf = KFold(n_splits=5)\n",
        "# for train_index, val_index in kf.split(x):\n",
        "#     x_train, x_val = x[train_index], x[val_index]\n",
        "#     y_train, y_val = y[train_index], y[val_index]\n",
        "\n",
        "# RMSE metric\n",
        "def rmse(y_true, y_pred):\n",
        "    return tf.sqrt(tf.reduce_mean(tf.square(y_true - y_pred)))\n",
        "\n",
        "# RMSECallback class\n",
        "class RMSECallback(Callback):\n",
        "    def on_epoch_end(self, epoch, logs=None):\n",
        "        logs = logs or {}\n",
        "        train_rmse = np.sqrt(logs.get('loss'))\n",
        "        val_rmse = np.sqrt(logs.get('val_loss'))\n",
        "        # print(f\"Epoch {epoch+1} - RMSE: {train_rmse:.4f}, Val RMSE: {val_rmse:.4f}\")\n",
        "\n",
        "\n",
        "class RecommenderNet(tf.keras.Model):\n",
        "\n",
        "  def __init__(self, num_users, num_courses, embedding_size, **kwargs):\n",
        "    super(RecommenderNet, self).__init__(**kwargs)\n",
        "\n",
        "    self.num_users = num_users\n",
        "    self.num_courses = num_courses\n",
        "    self.embedding_size = embedding_size\n",
        "\n",
        "    # Matrix Factorization (MF) Embeddings\n",
        "    self.user_embedding_mf = layers.Embedding(\n",
        "        num_users,\n",
        "        embedding_size,\n",
        "        embeddings_initializer='he_normal',\n",
        "        embeddings_regularizer=tf.keras.regularizers.l2(1e-4)\n",
        "    )\n",
        "    self.user_bias_mf = layers.Embedding(num_users, 1)\n",
        "    self.courses_embedding_mf = layers.Embedding(\n",
        "        num_courses,\n",
        "        embedding_size,\n",
        "        embeddings_initializer='he_normal',\n",
        "        embeddings_regularizer=tf.keras.regularizers.l2(1e-4)\n",
        "    )\n",
        "    self.courses_bias_mf = layers.Embedding(num_courses, 1)\n",
        "\n",
        "    # Neural Network (NN) Embeddings\n",
        "    self.user_embedding_nn = layers.Embedding(\n",
        "        num_users,\n",
        "        embedding_size,\n",
        "        embeddings_initializer='he_normal',\n",
        "        embeddings_regularizer=tf.keras.regularizers.l2(1e-4)\n",
        "    )\n",
        "    self.courses_embedding_nn = layers.Embedding(\n",
        "        num_courses,\n",
        "        embedding_size,\n",
        "        embeddings_initializer='he_normal',\n",
        "        embeddings_regularizer=tf.keras.regularizers.l2(1e-4)\n",
        "    )\n",
        "\n",
        "    # Neural Network Layers\n",
        "    self.dense1 = layers.Dense(64, activation='relu', kernel_regularizer=tf.keras.regularizers.l2(1e-4))\n",
        "    self.batch_norm1 = layers.BatchNormalization()\n",
        "    self.dropout1 = layers.Dropout(0.5)\n",
        "    self.dense2 = layers.Dense(32, activation='relu', kernel_regularizer=tf.keras.regularizers.l2(1e-4))\n",
        "    self.batch_norm2 = layers.BatchNormalization()\n",
        "    self.dropout2 = layers.Dropout(0.5)\n",
        "    # self.dense3 = layers.Dense(8, activation='relu', kernel_regularizer=tf.keras.regularizers.l2(1e-4))\n",
        "    # self.batch_norm3 = layers.BatchNormalization()\n",
        "    # self.dropout3 = layers.Dropout(0.5)\n",
        "\n",
        "\n",
        "    # Output Layer\n",
        "    self.output_layer = layers.Dense(1, activation='sigmoid')\n",
        "\n",
        "\n",
        "  def call(self, inputs):\n",
        "    user_vector_mf = self.user_embedding_mf(inputs[:, 0])\n",
        "    user_bias_mf = self.user_bias_mf(inputs[:, 0])\n",
        "    courses_vector_mf = self.courses_embedding_mf(inputs[:, 1])\n",
        "    courses_bias_mf = self.courses_bias_mf(inputs[:, 1])\n",
        "\n",
        "    dot_user_courses_mf = tf.tensordot(user_vector_mf, courses_vector_mf, axes=2)\n",
        "    x_mf = dot_user_courses_mf + user_bias_mf + courses_bias_mf\n",
        "\n",
        "    user_vector_nn = self.user_embedding_nn(inputs[:, 0])\n",
        "    courses_vector_nn = self.courses_embedding_nn(inputs[:, 1])\n",
        "\n",
        "    user_vector_nn = tf.keras.layers.Flatten()(user_vector_nn)\n",
        "    courses_vector_nn = tf.keras.layers.Flatten()(courses_vector_nn)\n",
        "\n",
        "    concat_nn = tf.keras.layers.Concatenate()([user_vector_nn, courses_vector_nn])\n",
        "\n",
        "    x_nn = self.dense1(concat_nn)\n",
        "    x_nn = self.batch_norm1(x_nn)\n",
        "    x_nn = self.dropout1(x_nn)\n",
        "    x_nn = self.dense2(x_nn)\n",
        "    x_nn = self.batch_norm2(x_nn)\n",
        "    x_nn = self.dropout2(x_nn)\n",
        "    # x_nn = self.dense3(x_nn)\n",
        "    # x_nn = self.batch_norm3(x_nn)\n",
        "    # x_nn = self.dropout3(x_nn)\n",
        "\n",
        "\n",
        "    concat_mf_nn = tf.keras.layers.Concatenate()([x_mf, x_nn])\n",
        "    concat_mf_nn = self.dropout2(concat_mf_nn)\n",
        "\n",
        "    output = self.output_layer(concat_mf_nn)\n",
        "\n",
        "    return output\n",
        "\n",
        "early_stopping = EarlyStopping(monitor='val_loss', patience=3, restore_best_weights=True)"
      ]
    },
    {
      "cell_type": "code",
      "execution_count": 33,
      "metadata": {
        "colab": {
          "base_uri": "https://localhost:8080/"
        },
        "id": "rQjMjvDPX-SG",
        "outputId": "de288073-e384-4cae-ecd4-6d6258164fb4"
      },
      "outputs": [
        {
          "name": "stdout",
          "output_type": "stream",
          "text": [
            "Max user ID: 281001, Max course ID: 418\n",
            "Num users: 281002, Num courses: 419\n",
            "Epoch 1/25\n",
            "\u001b[1m430/430\u001b[0m \u001b[32m━━━━━━━━━━━━━━━━━━━━\u001b[0m\u001b[37m\u001b[0m \u001b[1m140s\u001b[0m 312ms/step - loss: 0.1878 - rmse: 0.3834 - val_loss: 0.0621 - val_rmse: 0.1930\n",
            "Epoch 2/25\n",
            "\u001b[1m430/430\u001b[0m \u001b[32m━━━━━━━━━━━━━━━━━━━━\u001b[0m\u001b[37m\u001b[0m \u001b[1m135s\u001b[0m 313ms/step - loss: 0.0550 - rmse: 0.1810 - val_loss: 0.0479 - val_rmse: 0.1838\n",
            "Epoch 3/25\n",
            "\u001b[1m430/430\u001b[0m \u001b[32m━━━━━━━━━━━━━━━━━━━━\u001b[0m\u001b[37m\u001b[0m \u001b[1m137s\u001b[0m 318ms/step - loss: 0.0449 - rmse: 0.1798 - val_loss: 0.0413 - val_rmse: 0.1834\n",
            "Epoch 4/25\n",
            "\u001b[1m430/430\u001b[0m \u001b[32m━━━━━━━━━━━━━━━━━━━━\u001b[0m\u001b[37m\u001b[0m \u001b[1m136s\u001b[0m 316ms/step - loss: 0.0396 - rmse: 0.1808 - val_loss: 0.0376 - val_rmse: 0.1829\n",
            "Epoch 5/25\n",
            "\u001b[1m430/430\u001b[0m \u001b[32m━━━━━━━━━━━━━━━━━━━━\u001b[0m\u001b[37m\u001b[0m \u001b[1m137s\u001b[0m 319ms/step - loss: 0.0361 - rmse: 0.1802 - val_loss: 0.0353 - val_rmse: 0.1826\n",
            "Epoch 6/25\n",
            "\u001b[1m430/430\u001b[0m \u001b[32m━━━━━━━━━━━━━━━━━━━━\u001b[0m\u001b[37m\u001b[0m \u001b[1m138s\u001b[0m 322ms/step - loss: 0.0343 - rmse: 0.1806 - val_loss: 0.0340 - val_rmse: 0.1825\n",
            "Epoch 7/25\n",
            "\u001b[1m430/430\u001b[0m \u001b[32m━━━━━━━━━━━━━━━━━━━━\u001b[0m\u001b[37m\u001b[0m \u001b[1m135s\u001b[0m 315ms/step - loss: 0.0329 - rmse: 0.1804 - val_loss: 0.0330 - val_rmse: 0.1823\n",
            "Epoch 8/25\n",
            "\u001b[1m430/430\u001b[0m \u001b[32m━━━━━━━━━━━━━━━━━━━━\u001b[0m\u001b[37m\u001b[0m \u001b[1m135s\u001b[0m 313ms/step - loss: 0.0322 - rmse: 0.1804 - val_loss: 0.0324 - val_rmse: 0.1824\n",
            "Epoch 9/25\n",
            "\u001b[1m430/430\u001b[0m \u001b[32m━━━━━━━━━━━━━━━━━━━━\u001b[0m\u001b[37m\u001b[0m \u001b[1m135s\u001b[0m 315ms/step - loss: 0.0314 - rmse: 0.1798 - val_loss: 0.0319 - val_rmse: 0.1824\n",
            "Epoch 10/25\n",
            "\u001b[1m430/430\u001b[0m \u001b[32m━━━━━━━━━━━━━━━━━━━━\u001b[0m\u001b[37m\u001b[0m \u001b[1m135s\u001b[0m 313ms/step - loss: 0.0313 - rmse: 0.1809 - val_loss: 0.0316 - val_rmse: 0.1823\n",
            "Epoch 11/25\n",
            "\u001b[1m430/430\u001b[0m \u001b[32m━━━━━━━━━━━━━━━━━━━━\u001b[0m\u001b[37m\u001b[0m \u001b[1m136s\u001b[0m 316ms/step - loss: 0.0309 - rmse: 0.1806 - val_loss: 0.0313 - val_rmse: 0.1827\n",
            "Epoch 12/25\n",
            "\u001b[1m430/430\u001b[0m \u001b[32m━━━━━━━━━━━━━━━━━━━━\u001b[0m\u001b[37m\u001b[0m \u001b[1m134s\u001b[0m 312ms/step - loss: 0.0306 - rmse: 0.1808 - val_loss: 0.0311 - val_rmse: 0.1826\n",
            "Epoch 13/25\n",
            "\u001b[1m430/430\u001b[0m \u001b[32m━━━━━━━━━━━━━━━━━━━━\u001b[0m\u001b[37m\u001b[0m \u001b[1m134s\u001b[0m 311ms/step - loss: 0.0304 - rmse: 0.1806 - val_loss: 0.0310 - val_rmse: 0.1828\n",
            "Epoch 14/25\n",
            "\u001b[1m430/430\u001b[0m \u001b[32m━━━━━━━━━━━━━━━━━━━━\u001b[0m\u001b[37m\u001b[0m \u001b[1m135s\u001b[0m 313ms/step - loss: 0.0304 - rmse: 0.1815 - val_loss: 0.0309 - val_rmse: 0.1830\n",
            "Epoch 15/25\n",
            "\u001b[1m430/430\u001b[0m \u001b[32m━━━━━━━━━━━━━━━━━━━━\u001b[0m\u001b[37m\u001b[0m \u001b[1m135s\u001b[0m 314ms/step - loss: 0.0298 - rmse: 0.1800 - val_loss: 0.0308 - val_rmse: 0.1831\n",
            "Epoch 16/25\n",
            "\u001b[1m430/430\u001b[0m \u001b[32m━━━━━━━━━━━━━━━━━━━━\u001b[0m\u001b[37m\u001b[0m \u001b[1m136s\u001b[0m 315ms/step - loss: 0.0298 - rmse: 0.1809 - val_loss: 0.0307 - val_rmse: 0.1832\n",
            "Epoch 17/25\n",
            "\u001b[1m430/430\u001b[0m \u001b[32m━━━━━━━━━━━━━━━━━━━━\u001b[0m\u001b[37m\u001b[0m \u001b[1m136s\u001b[0m 315ms/step - loss: 0.0300 - rmse: 0.1815 - val_loss: 0.0306 - val_rmse: 0.1834\n",
            "Epoch 18/25\n",
            "\u001b[1m430/430\u001b[0m \u001b[32m━━━━━━━━━━━━━━━━━━━━\u001b[0m\u001b[37m\u001b[0m \u001b[1m135s\u001b[0m 314ms/step - loss: 0.0295 - rmse: 0.1805 - val_loss: 0.0305 - val_rmse: 0.1831\n",
            "Epoch 19/25\n",
            "\u001b[1m430/430\u001b[0m \u001b[32m━━━━━━━━━━━━━━━━━━━━\u001b[0m\u001b[37m\u001b[0m \u001b[1m136s\u001b[0m 315ms/step - loss: 0.0298 - rmse: 0.1817 - val_loss: 0.0304 - val_rmse: 0.1834\n",
            "Epoch 20/25\n",
            "\u001b[1m430/430\u001b[0m \u001b[32m━━━━━━━━━━━━━━━━━━━━\u001b[0m\u001b[37m\u001b[0m \u001b[1m134s\u001b[0m 311ms/step - loss: 0.0296 - rmse: 0.1819 - val_loss: 0.0304 - val_rmse: 0.1839\n",
            "Epoch 21/25\n",
            "\u001b[1m430/430\u001b[0m \u001b[32m━━━━━━━━━━━━━━━━━━━━\u001b[0m\u001b[37m\u001b[0m \u001b[1m134s\u001b[0m 312ms/step - loss: 0.0296 - rmse: 0.1821 - val_loss: 0.0304 - val_rmse: 0.1834\n",
            "Epoch 22/25\n",
            "\u001b[1m430/430\u001b[0m \u001b[32m━━━━━━━━━━━━━━━━━━━━\u001b[0m\u001b[37m\u001b[0m \u001b[1m135s\u001b[0m 315ms/step - loss: 0.0294 - rmse: 0.1818 - val_loss: 0.0303 - val_rmse: 0.1836\n",
            "Epoch 23/25\n",
            "\u001b[1m430/430\u001b[0m \u001b[32m━━━━━━━━━━━━━━━━━━━━\u001b[0m\u001b[37m\u001b[0m \u001b[1m135s\u001b[0m 314ms/step - loss: 0.0293 - rmse: 0.1814 - val_loss: 0.0303 - val_rmse: 0.1833\n",
            "Epoch 24/25\n",
            "\u001b[1m430/430\u001b[0m \u001b[32m━━━━━━━━━━━━━━━━━━━━\u001b[0m\u001b[37m\u001b[0m \u001b[1m137s\u001b[0m 319ms/step - loss: 0.0291 - rmse: 0.1811 - val_loss: 0.0302 - val_rmse: 0.1839\n",
            "Epoch 25/25\n",
            "\u001b[1m430/430\u001b[0m \u001b[32m━━━━━━━━━━━━━━━━━━━━\u001b[0m\u001b[37m\u001b[0m \u001b[1m138s\u001b[0m 320ms/step - loss: 0.0292 - rmse: 0.1819 - val_loss: 0.0302 - val_rmse: 0.1836\n"
          ]
        },
        {
          "name": "stdout",
          "output_type": "stream",
          "text": [
            "Warning: Looks like you're using an outdated API Version, please consider updating (server 1.6.17 / client 1.6.14)\n",
            "Dataset URL: https://www.kaggle.com/datasets/imuhammad/course-reviews-on-coursera\n",
            "License(s): GPL-2.0\n",
            "Downloading course-reviews-on-coursera.zip to d:\\Bismillah SKRIPSIIIII\\Recommender_System_Courses_web\n"
          ]
        },
        {
          "name": "stderr",
          "output_type": "stream",
          "text": [
            "\n",
            "  0%|          | 0.00/33.1M [00:00<?, ?B/s]\n",
            "  3%|▎         | 1.00M/33.1M [00:04<02:33, 220kB/s]\n",
            "  3%|▎         | 1.00M/33.1M [00:20<02:33, 220kB/s]\n",
            "  6%|▌         | 2.00M/33.1M [00:23<06:44, 80.7kB/s]\n",
            "  6%|▌         | 2.00M/33.1M [00:40<06:44, 80.7kB/s]\n",
            "  9%|▉         | 3.00M/33.1M [00:58<11:40, 45.1kB/s]\n",
            "  9%|▉         | 3.00M/33.1M [01:10<11:40, 45.1kB/s]\n",
            " 12%|█▏        | 4.00M/33.1M [01:15<10:01, 50.8kB/s]\n",
            " 15%|█▌        | 5.00M/33.1M [01:25<07:49, 62.8kB/s]\n",
            " 18%|█▊        | 6.00M/33.1M [01:34<06:22, 74.4kB/s]\n",
            " 18%|█▊        | 6.00M/33.1M [01:50<06:22, 74.4kB/s]\n",
            " 21%|██        | 7.00M/33.1M [02:01<07:55, 57.6kB/s]\n",
            " 24%|██▍       | 8.00M/33.1M [02:20<07:44, 56.8kB/s]\n",
            " 24%|██▍       | 8.00M/33.1M [02:30<07:44, 56.8kB/s]\n",
            " 24%|██▍       | 8.00M/33.1M [1:03:31<3:19:27, 2.20kB/s]\n",
            "Traceback (most recent call last):\n",
            "  File \"C:\\Users\\Tazkiiia\\AppData\\Local\\Programs\\Python\\Python310\\lib\\site-packages\\urllib3\\response.py\", line 737, in _error_catcher\n",
            "    yield\n",
            "  File \"C:\\Users\\Tazkiiia\\AppData\\Local\\Programs\\Python\\Python310\\lib\\site-packages\\urllib3\\response.py\", line 883, in _raw_read\n",
            "    raise IncompleteRead(self._fp_bytes_read, self.length_remaining)\n",
            "urllib3.exceptions.IncompleteRead: IncompleteRead(8426811 bytes read, 26300935 more expected)\n",
            "\n",
            "The above exception was the direct cause of the following exception:\n",
            "\n",
            "Traceback (most recent call last):\n",
            "  File \"C:\\Users\\Tazkiiia\\AppData\\Local\\Programs\\Python\\Python310\\lib\\runpy.py\", line 196, in _run_module_as_main\n",
            "    return _run_code(code, main_globals, None,\n",
            "  File \"C:\\Users\\Tazkiiia\\AppData\\Local\\Programs\\Python\\Python310\\lib\\runpy.py\", line 86, in _run_code\n",
            "    exec(code, run_globals)\n",
            "  File \"C:\\Users\\Tazkiiia\\AppData\\Local\\Programs\\Python\\Python310\\Scripts\\kaggle.exe\\__main__.py\", line 7, in <module>\n",
            "  File \"C:\\Users\\Tazkiiia\\AppData\\Local\\Programs\\Python\\Python310\\lib\\site-packages\\kaggle\\cli.py\", line 54, in main\n",
            "    out = args.func(**command_args)\n",
            "  File \"C:\\Users\\Tazkiiia\\AppData\\Local\\Programs\\Python\\Python310\\lib\\site-packages\\kaggle\\api\\kaggle_api_extended.py\", line 1575, in dataset_download_cli\n",
            "    self.dataset_download_files(dataset,\n",
            "  File \"C:\\Users\\Tazkiiia\\AppData\\Local\\Programs\\Python\\Python310\\lib\\site-packages\\kaggle\\api\\kaggle_api_extended.py\", line 1499, in dataset_download_files\n",
            "    self.download_file(response, outfile, quiet, not force)\n",
            "  File \"C:\\Users\\Tazkiiia\\AppData\\Local\\Programs\\Python\\Python310\\lib\\site-packages\\kaggle\\api\\kaggle_api_extended.py\", line 1958, in download_file\n",
            "    data = response.read(chunk_size)\n",
            "  File \"C:\\Users\\Tazkiiia\\AppData\\Local\\Programs\\Python\\Python310\\lib\\site-packages\\urllib3\\response.py\", line 963, in read\n",
            "    data = self._raw_read(amt)\n",
            "  File \"C:\\Users\\Tazkiiia\\AppData\\Local\\Programs\\Python\\Python310\\lib\\site-packages\\urllib3\\response.py\", line 861, in _raw_read\n",
            "    with self._error_catcher():\n",
            "  File \"C:\\Users\\Tazkiiia\\AppData\\Local\\Programs\\Python\\Python310\\lib\\contextlib.py\", line 153, in __exit__\n",
            "    self.gen.throw(typ, value, traceback)\n",
            "  File \"C:\\Users\\Tazkiiia\\AppData\\Local\\Programs\\Python\\Python310\\lib\\site-packages\\urllib3\\response.py\", line 761, in _error_catcher\n",
            "    raise ProtocolError(arg, e) from e\n",
            "urllib3.exceptions.ProtocolError: ('Connection broken: IncompleteRead(8426811 bytes read, 26300935 more expected)', IncompleteRead(8426811 bytes read, 26300935 more expected))\n"
          ]
        }
      ],
      "source": [
        "max_user_id = max(np.max(x_train[:, 0]), np.max(x_val[:, 0]))\n",
        "max_course_id = max(np.max(x_train[:, 1]), np.max(x_val[:, 1]))\n",
        "\n",
        "print(f\"Max user ID: {max_user_id}, Max course ID: {max_course_id}\")\n",
        "\n",
        "num_users = max_user_id + 1\n",
        "num_courses = max_course_id + 1\n",
        "\n",
        "print(f\"Num users: {num_users}, Num courses: {num_courses}\")\n",
        "\n",
        "x_train = np.clip(x_train, 0, [num_users - 1, num_courses - 1])\n",
        "x_val = np.clip(x_val, 0, [num_users - 1, num_courses - 1])\n",
        "\n",
        "embedding_size = 50\n",
        "\n",
        "model = RecommenderNet(num_users, num_courses, embedding_size)\n",
        "model.compile(\n",
        "    optimizer=tf.keras.optimizers.Adam(learning_rate=0.0001),\n",
        "    loss='mse',\n",
        "    metrics=[rmse]\n",
        "    )\n",
        "\n",
        "history = model.fit(\n",
        "    x=x_train,\n",
        "    y=y_train,\n",
        "    batch_size=1024,\n",
        "    epochs=25,\n",
        "    validation_data=(x_val, y_val),\n",
        "    callbacks=[RMSECallback(),early_stopping]\n",
        ")\n"
      ]
    },
    {
      "cell_type": "code",
      "execution_count": 34,
      "metadata": {},
      "outputs": [
        {
          "name": "stderr",
          "output_type": "stream",
          "text": [
            "WARNING:absl:You are saving your model as an HDF5 file via `model.save()` or `keras.saving.save_model(model)`. This file format is considered legacy. We recommend using instead the native Keras format, e.g. `model.save('my_model.keras')` or `keras.saving.save_model(model, 'my_model.keras')`. \n"
          ]
        }
      ],
      "source": [
        "model.save('recommender_model.h5')"
      ]
    },
    {
      "cell_type": "code",
      "execution_count": 35,
      "metadata": {},
      "outputs": [],
      "source": [
        "model.save('recommender_model.keras')"
      ]
    },
    {
      "cell_type": "code",
      "execution_count": 36,
      "metadata": {
        "colab": {
          "base_uri": "https://localhost:8080/",
          "height": 355
        },
        "id": "bmiX1BYNxOIB",
        "outputId": "950485b5-adce-4bff-82be-0ce8ee6e8393"
      },
      "outputs": [
        {
          "data": {
            "image/png": "[encoded data removed]",
            "text/plain": [
              "<Figure size 1200x400 with 2 Axes>"
            ]
          },
          "metadata": {},
          "output_type": "display_data"
        }
      ],
      "source": [
        "fig, ax = plt.subplots(nrows=1, ncols=2, figsize=(12, 4))\n",
        "\n",
        "ax[0].plot(history.history['loss'])\n",
        "ax[0].plot(history.history['val_loss'])\n",
        "ax[0].set_title('Model Loss')\n",
        "ax[0].set_ylabel('Loss')\n",
        "ax[0].set_xlabel('Epoch')\n",
        "ax[0].legend(['train', 'val'], loc='upper right')\n",
        "\n",
        "ax[1].plot(history.history['rmse'])\n",
        "ax[1].plot(history.history['val_rmse'])\n",
        "ax[1].set_title('Model Performance')\n",
        "ax[1].set_ylabel('RMSE')\n",
        "ax[1].set_xlabel('Epoch')\n",
        "ax[1].legend(['train', 'val'], loc='upper right')\n",
        "\n",
        "plt.show()"
      ]
    },
    {
      "cell_type": "markdown",
      "metadata": {
        "id": "o1zbqGHzJ5h4"
      },
      "source": [
        "# Recommeder System\n"
      ]
    },
    {
      "cell_type": "code",
      "execution_count": 37,
      "metadata": {
        "id": "7eDPFrLYJ7dB"
      },
      "outputs": [],
      "source": [
        "def get_recommendations():\n",
        "  user_id = int(input(\"Masukkan User ID (1 - 281001): \"))\n",
        "  if user_id <= num_users:\n",
        "    reviewed_course_by_user = final_df[final_df.user_id == user_id]\n",
        "\n",
        "    courses_not_reviewed = final_df[~(final_df.name\n",
        "                                      .isin(reviewed_course_by_user.name.values)\n",
        "                                      )]['course_id']\n",
        "    courses_not_reviewed = list(\n",
        "        set(courses_not_reviewed)\n",
        "        .intersection(set(courses_decoded.keys()))\n",
        "    )\n",
        "\n",
        "    courses_not_reviewed = [[x] for x in courses_not_reviewed]\n",
        "    user_courses_array = np.hstack(\n",
        "        ([[user_id]] * len(courses_not_reviewed), courses_not_reviewed)\n",
        "    )\n",
        "\n",
        "    ratings = model.predict(user_courses_array, verbose=0).flatten()\n",
        "\n",
        "    top_ratings_indices = ratings.argsort()[-10:][::-1]\n",
        "\n",
        "    top_courses_user = reviewed_course_by_user.sort_values(\n",
        "            by = 'rating',\n",
        "            ascending=False\n",
        "        ).head(10)\n",
        "\n",
        "    if len(top_courses_user) >= 10:\n",
        "        print('10 Kursus Teratas dengan rating tertinggi dari', users_decoded.get(user_id))\n",
        "        print('-' * 24)\n",
        "        print(\"| Course name : Rating |\")\n",
        "        print('-' * 24)\n",
        "    else:\n",
        "        num_of_courses = len(top_courses_user)\n",
        "        print(num_of_courses, 'Kursus Teratas dengan rating tertinggi dari', users_decoded.get(user_id))\n",
        "        print('-' * 24)\n",
        "        print(\"| Course name : Rating |\")\n",
        "        print('-' * 24)\n",
        "\n",
        "    for row in top_courses_user.itertuples():\n",
        "        print(row.name, ':', row.rating)\n",
        "\n",
        "    print(\"\\nBerikut 10 kursus rekomendasi yang mungkin Anda sukai\")\n",
        "\n",
        "    recommended_courses = final_rating_df[final_rating_df['course_id']\\\n",
        "                                          .isin(top_ratings_indices)]\n",
        "\n",
        "    top_10_recommended_courses = recommended_courses[['name',\n",
        "                                                      'course_url',\n",
        "                                                    'rating']].head(10)\n",
        "\n",
        "    return top_10_recommended_courses\n",
        "  else:\n",
        "    print(\"ID user tidak ditemukan.\")\n",
        "    return get_recommendations()"
      ]
    },
    {
      "cell_type": "code",
      "execution_count": 38,
      "metadata": {
        "colab": {
          "base_uri": "https://localhost:8080/",
          "height": 636
        },
        "id": "yk9wTzO4J9Ac",
        "outputId": "ee613190-4a84-4d17-fbca-13599f3cda24"
      },
      "outputs": [
        {
          "name": "stdout",
          "output_type": "stream",
          "text": [
            "8 Kursus Teratas dengan rating tertinggi dari Bruno C\n",
            "------------------------\n",
            "| Course name : Rating |\n",
            "------------------------\n",
            "Python Data Structures : 5.0\n",
            "Wind Energy : 5.0\n",
            "Fundamentals of Project Planning and Management : 5.0\n",
            "Machine Learning : 5.0\n",
            "Introduction to TensorFlow for Artificial Intelligence, Machine Learning, and Deep Learning : 5.0\n",
            "Fundamentos de Finanzas Empresariales : 5.0\n",
            "Machine Learning Foundations: A Case Study Approach : 4.0\n",
            "Machine Learning : 1.0\n",
            "\n",
            "Berikut 10 kursus rekomendasi yang mungkin Anda sukai\n"
          ]
        },
        {
          "data": {
            "text/html": [
              "<div>\n",
              "<style scoped>\n",
              "    .dataframe tbody tr th:only-of-type {\n",
              "        vertical-align: middle;\n",
              "    }\n",
              "\n",
              "    .dataframe tbody tr th {\n",
              "        vertical-align: top;\n",
              "    }\n",
              "\n",
              "    .dataframe thead th {\n",
              "        text-align: right;\n",
              "    }\n",
              "</style>\n",
              "<table border=\"1\" class=\"dataframe\">\n",
              "  <thead>\n",
              "    <tr style=\"text-align: right;\">\n",
              "      <th></th>\n",
              "      <th>name</th>\n",
              "      <th>course_url</th>\n",
              "      <th>rating</th>\n",
              "    </tr>\n",
              "  </thead>\n",
              "  <tbody>\n",
              "    <tr>\n",
              "      <th>30</th>\n",
              "      <td>Blockchain Basics</td>\n",
              "      <td>https://www.coursera.org/learn/blockchain-basics</td>\n",
              "      <td>4.50</td>\n",
              "    </tr>\n",
              "    <tr>\n",
              "      <th>137</th>\n",
              "      <td>Fundamentals of Quantitative Modeling</td>\n",
              "      <td>https://www.coursera.org/learn/wharton-quantit...</td>\n",
              "      <td>4.54</td>\n",
              "    </tr>\n",
              "    <tr>\n",
              "      <th>157</th>\n",
              "      <td>Google Cloud Platform Fundamentals: Core Infra...</td>\n",
              "      <td>https://www.coursera.org/learn/gcp-fundamentals</td>\n",
              "      <td>4.69</td>\n",
              "    </tr>\n",
              "    <tr>\n",
              "      <th>225</th>\n",
              "      <td>Introduction to Probability and Data with R</td>\n",
              "      <td>https://www.coursera.org/learn/probability-intro</td>\n",
              "      <td>4.60</td>\n",
              "    </tr>\n",
              "    <tr>\n",
              "      <th>253</th>\n",
              "      <td>Machine Learning</td>\n",
              "      <td>https://www.coursera.org/learn/machine-learning</td>\n",
              "      <td>4.73</td>\n",
              "    </tr>\n",
              "    <tr>\n",
              "      <th>276</th>\n",
              "      <td>Mind Control: Managing Your Mental Health Duri...</td>\n",
              "      <td>https://www.coursera.org/learn/manage-health-c...</td>\n",
              "      <td>4.82</td>\n",
              "    </tr>\n",
              "    <tr>\n",
              "      <th>358</th>\n",
              "      <td>Successful Negotiation: Essential Strategies a...</td>\n",
              "      <td>https://www.coursera.org/learn/negotiation-skills</td>\n",
              "      <td>4.80</td>\n",
              "    </tr>\n",
              "    <tr>\n",
              "      <th>389</th>\n",
              "      <td>Tools for Data Science</td>\n",
              "      <td>https://www.coursera.org/learn/open-source-too...</td>\n",
              "      <td>4.01</td>\n",
              "    </tr>\n",
              "    <tr>\n",
              "      <th>407</th>\n",
              "      <td>Vital Signs: Understanding What the Body Is Te...</td>\n",
              "      <td>https://www.coursera.org/learn/vital-signs</td>\n",
              "      <td>4.83</td>\n",
              "    </tr>\n",
              "    <tr>\n",
              "      <th>413</th>\n",
              "      <td>Writing in the Sciences</td>\n",
              "      <td>https://www.coursera.org/learn/sciwrite</td>\n",
              "      <td>4.92</td>\n",
              "    </tr>\n",
              "  </tbody>\n",
              "</table>\n",
              "</div>"
            ],
            "text/plain": [
              "                                                  name  \\\n",
              "30                                   Blockchain Basics   \n",
              "137              Fundamentals of Quantitative Modeling   \n",
              "157  Google Cloud Platform Fundamentals: Core Infra...   \n",
              "225        Introduction to Probability and Data with R   \n",
              "253                                   Machine Learning   \n",
              "276  Mind Control: Managing Your Mental Health Duri...   \n",
              "358  Successful Negotiation: Essential Strategies a...   \n",
              "389                             Tools for Data Science   \n",
              "407  Vital Signs: Understanding What the Body Is Te...   \n",
              "413                            Writing in the Sciences   \n",
              "\n",
              "                                            course_url  rating  \n",
              "30    https://www.coursera.org/learn/blockchain-basics    4.50  \n",
              "137  https://www.coursera.org/learn/wharton-quantit...    4.54  \n",
              "157    https://www.coursera.org/learn/gcp-fundamentals    4.69  \n",
              "225   https://www.coursera.org/learn/probability-intro    4.60  \n",
              "253    https://www.coursera.org/learn/machine-learning    4.73  \n",
              "276  https://www.coursera.org/learn/manage-health-c...    4.82  \n",
              "358  https://www.coursera.org/learn/negotiation-skills    4.80  \n",
              "389  https://www.coursera.org/learn/open-source-too...    4.01  \n",
              "407         https://www.coursera.org/learn/vital-signs    4.83  \n",
              "413            https://www.coursera.org/learn/sciwrite    4.92  "
            ]
          },
          "execution_count": 38,
          "metadata": {},
          "output_type": "execute_result"
        }
      ],
      "source": [
        "recommended_courses = get_recommendations()\n",
        "recommended_courses"
      ]
    }
  ],
  "metadata": {
    "colab": {
      "collapsed_sections": [
        "rPBGzugxVOp_",
        "VDcmWX74Vbzx",
        "tpL7FGdyVvcM"
      ],
      "provenance": []
    },
    "kernelspec": {
      "display_name": "Python 3",
      "name": "python3"
    },
    "language_info": {
      "codemirror_mode": {
        "name": "ipython",
        "version": 3
      },
      "file_extension": ".py",
      "mimetype": "text/x-python",
      "name": "python",
      "nbconvert_exporter": "python",
      "pygments_lexer": "ipython3",
      "version": "3.10.0"
    }
  },
  "nbformat": 4,
  "nbformat_minor": 0
}
